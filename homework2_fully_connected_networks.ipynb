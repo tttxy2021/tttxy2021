{
 "cells": [
  {
   "cell_type": "markdown",
   "metadata": {
    "colab_type": "text",
    "id": "MYPHJRpK16sp"
   },
   "source": [
    "# Fully-Connected Neural Nets\n",
    "In the previous homework you implemented a fully-connected two-layer neural network on CIFAR-10. The implementation was simple but not very modular since the loss and gradient were computed in a single monolithic function. This is manageable for a simple two-layer network, but would become impractical as we move to bigger models. Ideally we want to build networks using a more modular design so that we can implement different layer types in isolation and then snap them together into models with different architectures.\n",
    "\n",
    "In this exercise we will implement fully-connected networks using a more modular approach. For each layer we will implement a `forward` and a `backward` function. The `forward` function will receive inputs, weights, and other parameters and will return both an output and a `cache` object storing data needed for the backward pass, like this:\n",
    "\n",
    "```python\n",
    "def layer_forward(x, w):\n",
    "  \"\"\" Receive inputs x and weights w \"\"\"\n",
    "  # Do some computations ...\n",
    "  z = # ... some intermediate value\n",
    "  # Do some more computations ...\n",
    "  out = # the output\n",
    "   \n",
    "  cache = (x, w, z, out) # Values we need to compute gradients\n",
    "   \n",
    "  return out, cache\n",
    "```\n",
    "\n",
    "The backward pass will receive upstream derivatives and the `cache` object, and will return gradients with respect to the inputs and weights, like this:\n",
    "\n",
    "```python\n",
    "def layer_backward(dout, cache):\n",
    "  \"\"\"\n",
    "  Receive dout (derivative of loss with respect to outputs) and cache,\n",
    "  and compute derivative with respect to inputs.\n",
    "  \"\"\"\n",
    "  # Unpack cache values\n",
    "  x, w, z, out = cache\n",
    "  \n",
    "  # Use values in cache to compute derivatives\n",
    "  dx = # Derivative of loss with respect to x\n",
    "  dw = # Derivative of loss with respect to w\n",
    "  \n",
    "  return dx, dw\n",
    "```\n",
    "\n",
    "After implementing a bunch of layers this way, we will be able to easily combine them to build classifiers with different architectures.\n",
    "\n",
    "In addition to implementing fully-connected networks of arbitrary depth, we will also explore different update rules for optimization, and introduce Dropout as a regularizer and Batch Normalization as a tool to more efficiently optimize deep networks.\n",
    "  "
   ]
  },
  {
   "cell_type": "code",
   "execution_count": 1,
   "metadata": {
    "colab": {
     "base_uri": "https://localhost:8080/",
     "height": 128
    },
    "colab_type": "code",
    "id": "4ia1PNqY16sq",
    "outputId": "d1f4eeb1-96a5-4f03-d2cf-9ba0cefc2754"
   },
   "outputs": [
    {
     "name": "stdout",
     "output_type": "stream",
     "text": [
      "Go to this URL in a browser: https://accounts.google.com/o/oauth2/auth?client_id=947318989803-6bn6qk8qdgf4n4g3pfee6491hc0brc4i.apps.googleusercontent.com&redirect_uri=urn%3Aietf%3Awg%3Aoauth%3A2.0%3Aoob&scope=email%20https%3A%2F%2Fwww.googleapis.com%2Fauth%2Fdocs.test%20https%3A%2F%2Fwww.googleapis.com%2Fauth%2Fdrive%20https%3A%2F%2Fwww.googleapis.com%2Fauth%2Fdrive.photos.readonly%20https%3A%2F%2Fwww.googleapis.com%2Fauth%2Fpeopleapi.readonly&response_type=code\n",
      "\n",
      "Enter your authorization code:\n",
      "··········\n",
      "Mounted at /content/gdrive\n"
     ]
    }
   ],
   "source": [
    "import numpy as np\n",
    "import matplotlib.pyplot as plt\n",
    "import seaborn as sns\n",
    "from google.colab import drive\n",
    "drive.mount('/content/gdrive')\n",
    "\n",
    "sns.set()"
   ]
  },
  {
   "cell_type": "markdown",
   "metadata": {
    "colab_type": "text",
    "id": "YRo8qIbw-R09"
   },
   "source": [
    "## Load and preprocess CIFAR-10 dataset"
   ]
  },
  {
   "cell_type": "code",
   "execution_count": 21,
   "metadata": {
    "colab": {
     "base_uri": "https://localhost:8080/",
     "height": 163
    },
    "colab_type": "code",
    "id": "pCvEb_wr16sv",
    "outputId": "f34e2c60-0dc3-4480-9078-5137590ac7e2"
   },
   "outputs": [
    {
     "name": "stdout",
     "output_type": "stream",
     "text": [
      "Train data shape:  (49000, 3072)\n",
      "Train labels shape:  (49000,)\n",
      "Validation data shape:  (1000, 3072)\n",
      "Validation labels shape:  (1000,)\n",
      "Test data shape:  (1000, 3072)\n",
      "Test labels shape:  (1000,)\n",
      "dev data shape:  (500, 3072)\n",
      "dev labels shape:  (500,)\n"
     ]
    }
   ],
   "source": [
    "from keras.datasets import cifar10\n",
    "\n",
    "def get_CIFAR10_data(num_training=49000, num_validation=1000,\n",
    "                     num_test=1000, num_dev=500):\n",
    "    \"\"\"\n",
    "    Load the CIFAR-10 dataset from disk and perform preprocessing to prepare\n",
    "    it for the linear classifier. These are the same steps as we used for the\n",
    "    SVM, but condensed to a single function.  \n",
    "    \"\"\"\n",
    "    # Load the raw CIFAR-10 data\n",
    "    (X_train, y_train), (X_test, y_test) = cifar10.load_data()\n",
    "    \n",
    "    # All the data comes in the uint8 format, so we need to convert\n",
    "    # it to floats so that we compute numbers greater than 255.\n",
    "    X_train = X_train.astype(np.float)\n",
    "    X_test = X_test.astype(np.float)\n",
    "    # Also, for convenience we flatten the class arrays.\n",
    "    y_train = y_train.flatten()\n",
    "    y_test = y_test.flatten()\n",
    "    \n",
    "    # Split the data into train, val, and test sets. In addition we will\n",
    "    # create a small development set as a subset of the training data;\n",
    "    # we can use this for development so our code runs faster.\n",
    "    \n",
    "    # Our validation set will be num_validation points from the original\n",
    "    # training set.\n",
    "    mask = list(range(num_training, num_training + num_validation))\n",
    "    X_val = X_train[mask]\n",
    "    y_val = y_train[mask]\n",
    "    \n",
    "    # Our training set will be the first num_train points from the original\n",
    "    # training set.\n",
    "    mask = list(range(num_training))\n",
    "    X_train = X_train[mask]\n",
    "    y_train = y_train[mask]\n",
    "    \n",
    "    # We will also make a development set, which is a small subset of\n",
    "    # the training set.\n",
    "    mask = np.random.choice(num_training, num_dev, replace=False)\n",
    "    X_dev = X_train[mask]\n",
    "    y_dev = y_train[mask]\n",
    "    \n",
    "    # We use the first num_test points of the original test set as our\n",
    "    # test set.\n",
    "    mask = list(range(num_test))\n",
    "    X_test = X_test[mask]\n",
    "    y_test = y_test[mask]\n",
    "    \n",
    "    # Preprocessing: reshape the image data into rows\n",
    "    X_train = np.reshape(X_train, (X_train.shape[0], -1))\n",
    "    X_val = np.reshape(X_val, (X_val.shape[0], -1))\n",
    "    X_test = np.reshape(X_test, (X_test.shape[0], -1))\n",
    "    X_dev = np.reshape(X_dev, (X_dev.shape[0], -1))\n",
    "    \n",
    "    # Normalize the data: subtract the mean image\n",
    "    mean_image = np.mean(X_train, axis = 0)\n",
    "    X_train -= mean_image\n",
    "    X_val -= mean_image\n",
    "    X_test -= mean_image\n",
    "    X_dev -= mean_image\n",
    "    \n",
    "    return X_train, y_train, X_val, y_val, X_test, y_test, X_dev, y_dev\n",
    "\n",
    "\n",
    "# Invoke the above function to get our data.\n",
    "X_train, y_train, X_val, y_val, X_test, y_test, X_dev, y_dev = get_CIFAR10_data()\n",
    "print('Train data shape: ', X_train.shape)\n",
    "print('Train labels shape: ', y_train.shape)\n",
    "print('Validation data shape: ', X_val.shape)\n",
    "print('Validation labels shape: ', y_val.shape)\n",
    "print('Test data shape: ', X_test.shape)\n",
    "print('Test labels shape: ', y_test.shape)\n",
    "print('dev data shape: ', X_dev.shape)\n",
    "print('dev labels shape: ', y_dev.shape)"
   ]
  },
  {
   "cell_type": "markdown",
   "metadata": {
    "colab_type": "text",
    "id": "bCB1B-dA-c90"
   },
   "source": [
    "# Helper functions\n",
    "\n",
    "## Numerical gradient checkers"
   ]
  },
  {
   "cell_type": "code",
   "execution_count": 0,
   "metadata": {
    "colab": {},
    "colab_type": "code",
    "id": "ziIzLQ80-dQZ"
   },
   "outputs": [],
   "source": [
    "def eval_numerical_gradient(f, x, verbose=True, h=0.00001):\n",
    "    \"\"\"\n",
    "    a naive implementation of numerical gradient of f at x\n",
    "    - f should be a function that takes a single argument\n",
    "    - x is the point (numpy array) to evaluate the gradient at\n",
    "    \"\"\"\n",
    "\n",
    "    fx = f(x) # evaluate function value at original point\n",
    "    grad = np.zeros_like(x)\n",
    "    # iterate over all indexes in x\n",
    "    it = np.nditer(x, flags=['multi_index'], op_flags=['readwrite'])\n",
    "    while not it.finished:\n",
    "\n",
    "        # evaluate function at x+h\n",
    "        ix = it.multi_index\n",
    "        oldval = x[ix]\n",
    "        x[ix] = oldval + h # increment by h\n",
    "        fxph = f(x) # evalute f(x + h)\n",
    "        x[ix] = oldval - h\n",
    "        fxmh = f(x) # evaluate f(x - h)\n",
    "        x[ix] = oldval # restore\n",
    "\n",
    "        # compute the partial derivative with centered formula\n",
    "        grad[ix] = (fxph - fxmh) / (2 * h) # the slope\n",
    "        if verbose:\n",
    "            print(ix, grad[ix])\n",
    "        it.iternext() # step to next dimension\n",
    "\n",
    "    return grad\n",
    "\n",
    "\n",
    "def eval_numerical_gradient_array(f, x, df, h=1e-5):\n",
    "    \"\"\"\n",
    "    Evaluate a numeric gradient for a function that accepts a numpy\n",
    "    array and returns a numpy array.\n",
    "    \"\"\"\n",
    "    grad = np.zeros_like(x)\n",
    "    it = np.nditer(x, flags=['multi_index'], op_flags=['readwrite'])\n",
    "    while not it.finished:\n",
    "        ix = it.multi_index\n",
    "\n",
    "        oldval = x[ix]\n",
    "        x[ix] = oldval + h\n",
    "        pos = f(x).copy()\n",
    "        x[ix] = oldval - h\n",
    "        neg = f(x).copy()\n",
    "        x[ix] = oldval\n",
    "        \n",
    "        grad[ix] = np.sum((pos - neg) * df) / (2 * h)\n",
    "        it.iternext()\n",
    "     \n",
    "    return grad"
   ]
  },
  {
   "cell_type": "markdown",
   "metadata": {
    "colab_type": "text",
    "id": "U6gIJfwnSKaG"
   },
   "source": [
    "## Relative error function"
   ]
  },
  {
   "cell_type": "code",
   "execution_count": 0,
   "metadata": {
    "colab": {},
    "colab_type": "code",
    "id": "215pCebySKuL"
   },
   "outputs": [],
   "source": [
    "def rel_error(x, y):\n",
    "  \"\"\" returns relative error \"\"\"\n",
    "  return np.max(np.abs(x - y) / (np.maximum(1e-8, np.abs(x) + np.abs(y))))"
   ]
  },
  {
   "cell_type": "markdown",
   "metadata": {
    "colab_type": "text",
    "id": "am1IoNjUbspQ"
   },
   "source": [
    "## Print mean and standard deviation"
   ]
  },
  {
   "cell_type": "code",
   "execution_count": 0,
   "metadata": {
    "colab": {},
    "colab_type": "code",
    "id": "n70Puw7Wbsyr"
   },
   "outputs": [],
   "source": [
    "def print_mean_std(x,axis=0):\n",
    "    print('  means: ', x.mean(axis=axis))\n",
    "    print('  stds:  ', x.std(axis=axis))\n",
    "    print() "
   ]
  },
  {
   "cell_type": "markdown",
   "metadata": {
    "colab_type": "text",
    "id": "L4glzdt69L5t"
   },
   "source": [
    "# Affine Layer\n",
    "\n",
    "This is the typical fully connected layer.  Implement the forward and backward passes."
   ]
  },
  {
   "cell_type": "code",
   "execution_count": 0,
   "metadata": {
    "colab": {},
    "colab_type": "code",
    "id": "J0KqKurQ8oSt"
   },
   "outputs": [],
   "source": [
    "def affine_forward(x, w, b):\n",
    "    \"\"\"\n",
    "    Computes the forward pass for an affine (fully-connected) layer.\n",
    "\n",
    "    The input x has shape (N, d_1, ..., d_k) and contains a minibatch of N\n",
    "    examples, where each example x[i] has shape (d_1, ..., d_k). We will\n",
    "    reshape each input into a vector of dimension D = d_1 * ... * d_k, and\n",
    "    then transform it to an output vector of dimension M.\n",
    "\n",
    "    Inputs:\n",
    "    - x: A numpy array containing input data, of shape (N, d_1, ..., d_k)\n",
    "    - w: A numpy array of weights, of shape (D, M)\n",
    "    - b: A numpy array of biases, of shape (M,)\n",
    "\n",
    "    Returns a tuple of:\n",
    "    - out: output, of shape (N, M)\n",
    "    - cache: (x, w, b)\n",
    "    \"\"\"\n",
    "    out = None\n",
    "    ###########################################################################\n",
    "    # TODO: Implement the affine forward pass. Store the result in out. You   #\n",
    "    # will need to reshape the input into rows.                               #\n",
    "    ###########################################################################\n",
    "    shape=np.array(x.shape)\n",
    "    \n",
    "    shape_1=shape[0]\n",
    "    shape_rest=np.prod(shape[1:])\n",
    "    #print(shape_1,shape_rest)\n",
    "    x_reshape=np.reshape(x,(shape_1,shape_rest))\n",
    "    #print(x_reshape.shape,\"x_reshape.shape\")\n",
    "    #print(w.shape,\"w.shape\")\n",
    "    #print(b.shape)\n",
    "    out=x_reshape@w+b\n",
    "    \n",
    "    ###########################################################################\n",
    "    #                             END OF YOUR CODE                            #\n",
    "    ###########################################################################\n",
    "    cache = (x, w, b)\n",
    "    return out, cache\n",
    "\n",
    "\n",
    "def affine_backward(dout, cache):\n",
    "    \"\"\"\n",
    "    Computes the backward pass for an affine layer.\n",
    "\n",
    "    Inputs:\n",
    "    - dout: Upstream derivative, of shape (N, M)\n",
    "    - cache: Tuple of:\n",
    "      - x: Input data, of shape (N, d_1, ... d_k)\n",
    "      - w: Weights, of shape (D, M)\n",
    "      - b: Biases, of shape (M,)\n",
    "\n",
    "    Returns a tuple of:\n",
    "    - dx: Gradient with respect to x, of shape (N, d1, ..., d_k)\n",
    "    - dw: Gradient with respect to w, of shape (D, M)\n",
    "    - db: Gradient with respect to b, of shape (M,)\n",
    "    \"\"\"\n",
    "    x, w, b = cache\n",
    "    dx, dw, db = None, None, None\n",
    "    ###########################################################################\n",
    "    # TODO: Implement the affine backward pass.                               #\n",
    "    ###########################################################################\n",
    "    shape=np.array(x.shape)\n",
    "    shape_1=shape[0]\n",
    "    shape_rest=np.prod(shape[1:])\n",
    "    x_reshape=np.reshape(x,(shape_1,shape_rest))\n",
    "    db=np.sum(dout,0)\n",
    "    dw=x_reshape.T@dout\n",
    "    dx=np.reshape(dout@w.T,shape)\n",
    "    ###########################################################################\n",
    "    #                             END OF YOUR CODE                            #\n",
    "    ###########################################################################\n",
    "    return dx, dw, db"
   ]
  },
  {
   "cell_type": "markdown",
   "metadata": {
    "colab_type": "text",
    "id": "nhqA_8uo16sy"
   },
   "source": [
    "## Affine layer: forward\n",
    "You can test your implementaion of the forward pass by running the following:"
   ]
  },
  {
   "cell_type": "code",
   "execution_count": 24,
   "metadata": {
    "colab": {
     "base_uri": "https://localhost:8080/",
     "height": 53
    },
    "colab_type": "code",
    "id": "Byp0Xg3816s0",
    "outputId": "bef0f8a1-6655-4e84-99cc-96707c00b3be"
   },
   "outputs": [
    {
     "name": "stdout",
     "output_type": "stream",
     "text": [
      "Testing affine_forward function:\n",
      "difference:  9.769849468192957e-10\n"
     ]
    }
   ],
   "source": [
    "# Test the affine_forward function\n",
    "\n",
    "num_inputs = 2\n",
    "input_shape = (4, 5, 6)\n",
    "output_dim = 3\n",
    "\n",
    "input_size = num_inputs * np.prod(input_shape)\n",
    "weight_size = output_dim * np.prod(input_shape)\n",
    "\n",
    "x = np.linspace(-0.1, 0.5, num=input_size).reshape(num_inputs, *input_shape)\n",
    "w = np.linspace(-0.2, 0.3, num=weight_size).reshape(np.prod(input_shape), output_dim)\n",
    "b = np.linspace(-0.3, 0.1, num=output_dim)\n",
    "\n",
    "out, _ = affine_forward(x, w, b)\n",
    "correct_out = np.array([[ 1.49834967,  1.70660132,  1.91485297],\n",
    "                        [ 3.25553199,  3.5141327,   3.77273342]])\n",
    "\n",
    "# Compare your output with ours. The error should be around e-9 or less.\n",
    "print('Testing affine_forward function:')\n",
    "print('difference: ', rel_error(out, correct_out))"
   ]
  },
  {
   "cell_type": "markdown",
   "metadata": {
    "colab_type": "text",
    "id": "RU9guj2d16s3"
   },
   "source": [
    "## Affine layer: backward\n",
    "You can test your implementation of the backward pass by using numeric gradient checking."
   ]
  },
  {
   "cell_type": "code",
   "execution_count": 25,
   "metadata": {
    "colab": {
     "base_uri": "https://localhost:8080/",
     "height": 90
    },
    "colab_type": "code",
    "id": "4rALE52K16s4",
    "outputId": "ddf209fd-2cf7-4def-d7ae-61610ef75a7f"
   },
   "outputs": [
    {
     "name": "stdout",
     "output_type": "stream",
     "text": [
      "Testing affine_backward function:\n",
      "dx error:  5.399100368651805e-11\n",
      "dw error:  9.904211865398145e-11\n",
      "db error:  2.4122867568119087e-11\n"
     ]
    }
   ],
   "source": [
    "# Test the affine_backward function\n",
    "np.random.seed(231)\n",
    "x = np.random.randn(10, 2, 3)\n",
    "w = np.random.randn(6, 5)\n",
    "b = np.random.randn(5)\n",
    "dout = np.random.randn(10, 5)\n",
    "\n",
    "dx_num = eval_numerical_gradient_array(lambda x: affine_forward(x, w, b)[0], x, dout)\n",
    "dw_num = eval_numerical_gradient_array(lambda w: affine_forward(x, w, b)[0], w, dout)\n",
    "db_num = eval_numerical_gradient_array(lambda b: affine_forward(x, w, b)[0], b, dout)\n",
    "\n",
    "_, cache = affine_forward(x, w, b)\n",
    "dx, dw, db = affine_backward(dout, cache)\n",
    "\n",
    "# The error should be around e-10 or less\n",
    "print('Testing affine_backward function:')\n",
    "print('dx error: ', rel_error(dx_num, dx))\n",
    "print('dw error: ', rel_error(dw_num, dw))\n",
    "print('db error: ', rel_error(db_num, db))"
   ]
  },
  {
   "cell_type": "markdown",
   "metadata": {
    "colab_type": "text",
    "id": "6HYQHYBKOeWQ"
   },
   "source": [
    "# ReLU activation\n",
    "\n",
    "Implement the forward and backward pass of a ReLU activation."
   ]
  },
  {
   "cell_type": "code",
   "execution_count": 0,
   "metadata": {
    "colab": {},
    "colab_type": "code",
    "id": "Ae8tDk1DOgxx"
   },
   "outputs": [],
   "source": [
    "def relu_forward(x):\n",
    "    \"\"\"\n",
    "    Computes the forward pass for a layer of rectified linear units (ReLUs).\n",
    "\n",
    "    Input:\n",
    "    - x: Inputs, of any shape\n",
    "\n",
    "    Returns a tuple of:\n",
    "    - out: Output, of the same shape as x\n",
    "    - cache: x\n",
    "    \"\"\"\n",
    "    out = None\n",
    "    ###########################################################################\n",
    "    # TODO: Implement the ReLU forward pass.                                  #\n",
    "    ###########################################################################\n",
    "    out=np.zeros_like(x)\n",
    "    ind_relu=np.where(x>=0)\n",
    "    out[ind_relu]=x[ind_relu]\n",
    "\n",
    "    ###########################################################################\n",
    "    #                             END OF YOUR CODE                            #\n",
    "    ###########################################################################\n",
    "    cache = x\n",
    "    return out, cache\n",
    "\n",
    "\n",
    "def relu_backward(dout11, cache):\n",
    "    \"\"\"\n",
    "    Computes the backward pass for a layer of rectified linear units (ReLUs).\n",
    "\n",
    "    Input:\n",
    "    - dout: Upstream derivatives, of any shape\n",
    "    - cache: Input x, of same shape as dout\n",
    "\n",
    "    Returns:\n",
    "    - dx: Gradient with respect to x\n",
    "    \"\"\"\n",
    "    x =  cache\n",
    "    #print(x.shape,\"x.shape\")\n",
    "    #print(dout11.shape,\"dout.shape\")\n",
    "    ###########################################################################\n",
    "    # TODO: Implement the ReLU backward pass.                                 #\n",
    "    ###########################################################################\n",
    "    dx=np.zeros_like(x)\n",
    "    ind_relu=np.where(x>=0)\n",
    "    #print(ind_relu)\n",
    "    #print(dout11[ind_relu])\n",
    "    \n",
    "    dx[ind_relu]=dout11[ind_relu]\n",
    "    ###########################################################################\n",
    "    #                             END OF YOUR CODE                            #\n",
    "    ###########################################################################\n",
    "    return dx"
   ]
  },
  {
   "cell_type": "markdown",
   "metadata": {
    "colab_type": "text",
    "id": "Pgm5AorR16s6"
   },
   "source": [
    "## ReLU activation: forward\n",
    "Test your implementation of the forward pass by using the following:"
   ]
  },
  {
   "cell_type": "code",
   "execution_count": 27,
   "metadata": {
    "colab": {
     "base_uri": "https://localhost:8080/",
     "height": 53
    },
    "colab_type": "code",
    "id": "MW6Z7uAg16s7",
    "outputId": "082a06e8-c6f3-4243-b417-59479ca0cac6"
   },
   "outputs": [
    {
     "name": "stdout",
     "output_type": "stream",
     "text": [
      "Testing relu_forward function:\n",
      "difference:  4.999999798022158e-08\n"
     ]
    }
   ],
   "source": [
    "# Test the relu_forward function\n",
    "\n",
    "x = np.linspace(-0.5, 0.5, num=12).reshape(3, 4)\n",
    "\n",
    "out, _ = relu_forward(x)\n",
    "correct_out = np.array([[ 0.,          0.,          0.,          0.,        ],\n",
    "                        [ 0.,          0.,          0.04545455,  0.13636364,],\n",
    "                        [ 0.22727273,  0.31818182,  0.40909091,  0.5,       ]])\n",
    "\n",
    "# Compare your output with ours. The error should be on the order of e-8\n",
    "print('Testing relu_forward function:')\n",
    "print('difference: ', rel_error(out, correct_out))"
   ]
  },
  {
   "cell_type": "markdown",
   "metadata": {
    "colab_type": "text",
    "id": "kvWiPnTS16s-"
   },
   "source": [
    "## ReLU activation: backward\n",
    "Test your implementation of the backward pass by using numeric gradient checking:"
   ]
  },
  {
   "cell_type": "code",
   "execution_count": 28,
   "metadata": {
    "colab": {
     "base_uri": "https://localhost:8080/",
     "height": 53
    },
    "colab_type": "code",
    "id": "2iPSawoL16s_",
    "outputId": "9c206396-4601-4a90-b8d5-9566a5b119b1"
   },
   "outputs": [
    {
     "name": "stdout",
     "output_type": "stream",
     "text": [
      "Testing relu_backward function:\n",
      "dx error:  3.2756349136310288e-12\n"
     ]
    }
   ],
   "source": [
    "np.random.seed(231)\n",
    "x = np.random.randn(10, 10)\n",
    "dout = np.random.randn(*x.shape)\n",
    "\n",
    "dx_num = eval_numerical_gradient_array(lambda x: relu_forward(x)[0], x, dout)\n",
    "\n",
    "_, cache = relu_forward(x)\n",
    "dx = relu_backward(dout, cache)\n",
    "\n",
    "# The error should be on the order of e-12\n",
    "print('Testing relu_backward function:')\n",
    "print('dx error: ', rel_error(dx_num, dx))"
   ]
  },
  {
   "cell_type": "markdown",
   "metadata": {
    "colab_type": "text",
    "id": "mItgkdyq16tE"
   },
   "source": [
    "# \"Sandwich\" layers\n",
    "There are some common patterns of layers that are frequently used in neural nets. For example, affine layers are frequently followed by a ReLU nonlinearity. To make these common patterns easy, we define the convenience layers `affine_relu_forward` and `affine_relu_backward` below. Run the following to numerically gradient check the backward pass:"
   ]
  },
  {
   "cell_type": "code",
   "execution_count": 0,
   "metadata": {
    "colab": {},
    "colab_type": "code",
    "id": "ZqljXGZxRJeH"
   },
   "outputs": [],
   "source": [
    "def affine_relu_forward(x, w, b):\n",
    "    \"\"\"\n",
    "    Convenience layer that perorms an affine transform followed by a ReLU\n",
    "\n",
    "    Inputs:\n",
    "    - x: Input to the affine layer\n",
    "    - w, b: Weights for the affine layer\n",
    "\n",
    "    Returns a tuple of:\n",
    "    - out: Output from the ReLU\n",
    "    - cache: Object to give to the backward pass\n",
    "    \"\"\"\n",
    "    a, fc_cache = affine_forward(x, w, b)\n",
    "    out, relu_cache = relu_forward(a)\n",
    "    cache = (fc_cache, relu_cache)\n",
    "    return out, cache\n",
    "\n",
    "\n",
    "def affine_relu_backward(dout, cache):\n",
    "    \"\"\"\n",
    "    Backward pass for the affine-relu convenience layer\n",
    "    \"\"\"\n",
    "    fc_cache, relu_cache = cache\n",
    "    da = relu_backward(dout, relu_cache)\n",
    "    dx, dw, db = affine_backward(da, fc_cache)\n",
    "    return dx, dw, db\n"
   ]
  },
  {
   "cell_type": "code",
   "execution_count": 36,
   "metadata": {
    "colab": {
     "base_uri": "https://localhost:8080/",
     "height": 90
    },
    "colab_type": "code",
    "id": "aOTg6PL316tF",
    "outputId": "e55eed88-4a3e-46e2-a50c-45318de4b2fb"
   },
   "outputs": [
    {
     "name": "stdout",
     "output_type": "stream",
     "text": [
      "Testing affine_relu_forward and affine_relu_backward:\n",
      "dx error:  2.299579177309368e-11\n",
      "dw error:  8.162011105764925e-11\n",
      "db error:  7.826724021458994e-12\n"
     ]
    }
   ],
   "source": [
    "np.random.seed(231)\n",
    "x = np.random.randn(2, 3, 4)\n",
    "w = np.random.randn(12, 10)\n",
    "b = np.random.randn(10)\n",
    "dout = np.random.randn(2, 10)\n",
    "\n",
    "out, cache = affine_relu_forward(x, w, b)\n",
    "dx, dw, db = affine_relu_backward(dout, cache)\n",
    "\n",
    "dx_num = eval_numerical_gradient_array(lambda x: affine_relu_forward(x, w, b)[0], x, dout)\n",
    "dw_num = eval_numerical_gradient_array(lambda w: affine_relu_forward(x, w, b)[0], w, dout)\n",
    "db_num = eval_numerical_gradient_array(lambda b: affine_relu_forward(x, w, b)[0], b, dout)\n",
    "\n",
    "# Relative error should be around e-10 or less\n",
    "print('Testing affine_relu_forward and affine_relu_backward:')\n",
    "print('dx error: ', rel_error(dx_num, dx))\n",
    "print('dw error: ', rel_error(dw_num, dw))\n",
    "print('db error: ', rel_error(db_num, db))"
   ]
  },
  {
   "cell_type": "markdown",
   "metadata": {
    "colab_type": "text",
    "id": "N9mnuZDK16tI"
   },
   "source": [
    "# Loss layers: Softmax and SVM\n",
    "You implemented these in the last homework, so here we just give them to you."
   ]
  },
  {
   "cell_type": "code",
   "execution_count": 0,
   "metadata": {
    "colab": {},
    "colab_type": "code",
    "id": "qCFGL2f7-GnR"
   },
   "outputs": [],
   "source": [
    "def svm_loss(x, y):\n",
    "    \"\"\"\n",
    "    Computes the loss and gradient using for multiclass SVM classification.\n",
    "\n",
    "    Inputs:\n",
    "    - x: Input data, of shape (N, C) where x[i, j] is the score for the jth\n",
    "      class for the ith input.\n",
    "    - y: Vector of labels, of shape (N,) where y[i] is the label for x[i] and\n",
    "      0 <= y[i] < C\n",
    "\n",
    "    Returns a tuple of:\n",
    "    - loss: Scalar giving the loss\n",
    "    - dx: Gradient of the loss with respect to x\n",
    "    \"\"\"\n",
    "    N = x.shape[0]\n",
    "    correct_class_scores = x[np.arange(N), y]\n",
    "    margins = np.maximum(0, x - correct_class_scores[:, np.newaxis] + 1.0)\n",
    "    margins[np.arange(N), y] = 0\n",
    "    loss = np.sum(margins) / N\n",
    "    num_pos = np.sum(margins > 0, axis=1)\n",
    "    dx = np.zeros_like(x)\n",
    "    dx[margins > 0] = 1\n",
    "    dx[np.arange(N), y] -= num_pos\n",
    "    dx /= N\n",
    "    return loss, dx\n",
    "\n",
    "\n",
    "def softmax_loss(x, y):\n",
    "    \"\"\"\n",
    "    Computes the loss and gradient for softmax classification.\n",
    "\n",
    "    Inputs:\n",
    "    - x: Input data, of shape (N, C) where x[i, j] is the score for the jth\n",
    "      class for the ith input.\n",
    "    - y: Vector of labels, of shape (N,) where y[i] is the label for x[i] and\n",
    "      0 <= y[i] < C\n",
    "\n",
    "    Returns a tuple of:\n",
    "    - loss: Scalar giving the loss\n",
    "    - dx: Gradient of the loss with respect to x\n",
    "    \"\"\"\n",
    "    shifted_logits = x - np.max(x, axis=1, keepdims=True)\n",
    "    Z = np.sum(np.exp(shifted_logits), axis=1, keepdims=True)\n",
    "    log_probs = shifted_logits - np.log(Z)\n",
    "    probs = np.exp(log_probs)\n",
    "    N = x.shape[0]\n",
    "    loss = -np.sum(log_probs[np.arange(N), y]) / N\n",
    "    dx = probs.copy()\n",
    "    dx[np.arange(N), y] -= 1\n",
    "    dx /= N\n",
    "    return loss, dx\n"
   ]
  },
  {
   "cell_type": "markdown",
   "metadata": {
    "colab_type": "text",
    "id": "07g0n2j-S2cM"
   },
   "source": [
    "You can make sure that the implementations are correct by running the following the cells:"
   ]
  },
  {
   "cell_type": "code",
   "execution_count": 0,
   "metadata": {
    "colab": {
     "base_uri": "https://localhost:8080/",
     "height": 145
    },
    "colab_type": "code",
    "id": "oLVq-Yls16tJ",
    "outputId": "c3d021cb-4d26-4cce-da33-7224b445eb2a"
   },
   "outputs": [
    {
     "name": "stdout",
     "output_type": "stream",
     "text": [
      "Testing svm_loss:\n",
      "loss:  8.999602749096233\n",
      "dx error:  1.4021566006651672e-09\n",
      "\n",
      "Testing softmax_loss:\n",
      "loss:  2.302545844500738\n",
      "dx error:  9.384673161989355e-09\n"
     ]
    }
   ],
   "source": [
    "np.random.seed(231)\n",
    "num_classes, num_inputs = 10, 50\n",
    "x = 0.001 * np.random.randn(num_inputs, num_classes)\n",
    "y = np.random.randint(num_classes, size=num_inputs)\n",
    "\n",
    "dx_num = eval_numerical_gradient(lambda x: svm_loss(x, y)[0], x, verbose=False)\n",
    "loss, dx = svm_loss(x, y)\n",
    "\n",
    "# Test svm_loss function. Loss should be around 9 and dx error should be around the order of e-9\n",
    "print('Testing svm_loss:')\n",
    "print('loss: ', loss)\n",
    "print('dx error: ', rel_error(dx_num, dx))\n",
    "\n",
    "dx_num = eval_numerical_gradient(lambda x: softmax_loss(x, y)[0], x, verbose=False)\n",
    "loss, dx = softmax_loss(x, y)\n",
    "\n",
    "# Test softmax_loss function. Loss should be close to 2.3 and dx error should be around e-8\n",
    "print('\\nTesting softmax_loss:')\n",
    "print('loss: ', loss)\n",
    "print('dx error: ', rel_error(dx_num, dx))"
   ]
  },
  {
   "cell_type": "markdown",
   "metadata": {
    "colab_type": "text",
    "id": "3qluLTuF16tO"
   },
   "source": [
    "# Two-layer network\n",
    "In the previous assignment you implemented a two-layer neural network in a single monolithic class. Now that you have implemented modular versions of the necessary layers, you will reimplement the two layer network using these modular implementations.\n",
    "\n",
    "Complete the implementation of the `TwoLayerNet` class below. This class will serve as a model for the other networks you will implement in this assignment, so read through it to make sure you understand the API."
   ]
  },
  {
   "cell_type": "code",
   "execution_count": 0,
   "metadata": {
    "colab": {},
    "colab_type": "code",
    "id": "CZJ_HWUYTFr0"
   },
   "outputs": [],
   "source": [
    "class TwoLayerNet(object):\n",
    "    \"\"\"\n",
    "    A two-layer fully-connected neural network with ReLU nonlinearity and\n",
    "    softmax loss that uses a modular layer design. We assume an input dimension\n",
    "    of D, a hidden dimension of H, and perform classification over C classes.\n",
    "\n",
    "    The architecure should be affine - relu - affine - softmax.\n",
    "\n",
    "    Note that this class does not implement gradient descent; instead, it\n",
    "    will interact with a separate Solver object that is responsible for running\n",
    "    optimization.\n",
    "\n",
    "    The learnable parameters of the model are stored in the dictionary\n",
    "    self.params that maps parameter names to numpy arrays.\n",
    "    \"\"\"\n",
    "\n",
    "    def __init__(self, input_dim=3*32*32, hidden_dim=100, num_classes=10,\n",
    "                 weight_scale=1e-3, reg=0.0):\n",
    "        \"\"\"\n",
    "        Initialize a new network.\n",
    "\n",
    "        Inputs:\n",
    "        - input_dim: An integer giving the size of the input\n",
    "        - hidden_dim: An integer giving the size of the hidden layer\n",
    "        - num_classes: An integer giving the number of classes to classify\n",
    "        - weight_scale: Scalar giving the standard deviation for random\n",
    "          initialization of the weights.\n",
    "        - reg: Scalar giving L2 regularization strength.\n",
    "        \"\"\"\n",
    "        self.params = {}\n",
    "        self.reg = reg\n",
    "\n",
    "        ############################################################################\n",
    "        # TODO: Initialize the weights and biases of the two-layer net. Weights    #\n",
    "        # should be initialized from a Gaussian centered at 0.0 with               #\n",
    "        # standard deviation equal to weight_scale, and biases should be           #\n",
    "        # initialized to zero. All weights and biases should be stored in the      #\n",
    "        # dictionary self.params, with first layer weights                         #\n",
    "        # and biases using the keys 'W1' and 'b1' and second layer                 #\n",
    "        # weights and biases using the keys 'W2' and 'b2'.                         #\n",
    "        ############################################################################\n",
    "        \n",
    "        \n",
    "        W1=np.random.normal(0.0,weight_scale,(input_dim,hidden_dim))\n",
    "        b1=np.zeros(hidden_dim)\n",
    "        W2=np.random.normal(0.0,weight_scale,(hidden_dim,num_classes))\n",
    "        b2=np.zeros(num_classes)        \n",
    "        self.params[\"W1\"]=W1\n",
    "        self.params[\"W2\"]=W2\n",
    "        self.params[\"b1\"]=b1\n",
    "        self.params[\"b2\"]=b2\n",
    "\n",
    "        ############################################################################\n",
    "        #                             END OF YOUR CODE                             #\n",
    "        ############################################################################\n",
    "\n",
    "\n",
    "    def loss(self, X, y=None):\n",
    "        \"\"\"\n",
    "        Compute loss and gradient for a minibatch of data.\n",
    "\n",
    "        Inputs:\n",
    "        - X: Array of input data of shape (N, d_1, ..., d_k)\n",
    "        - y: Array of labels, of shape (N,). y[i] gives the label for X[i].\n",
    "\n",
    "        Returns:\n",
    "        If y is None, then run a test-time forward pass of the model and return:\n",
    "        - scores: Array of shape (N, C) giving classification scores, where\n",
    "          scores[i, c] is the classification score for X[i] and class c.\n",
    "\n",
    "        If y is not None, then run a training-time forward and backward pass and\n",
    "        return a tuple of:\n",
    "        - loss: Scalar value giving the loss\n",
    "        - grads: Dictionary with the same keys as self.params, mapping parameter\n",
    "          names to gradients of the loss with respect to those parameters.\n",
    "        \"\"\"\n",
    "        scores = None\n",
    "        ############################################################################\n",
    "        # TODO: Implement the forward pass for the two-layer net, computing the    #\n",
    "        # class scores for X and storing them in the scores variable.              #\n",
    "        ############################################################################\n",
    "        out, cache1 = affine_relu_forward(X, self.params[\"W1\"], self.params[\"b1\"])\n",
    "        out2, cache2=affine_forward(out, self.params[\"W2\"], self.params[\"b2\"])\n",
    "        \n",
    "        scores=out2\n",
    "        \n",
    "        \n",
    "        \n",
    "        \n",
    "        \n",
    "        ############################################################################\n",
    "        #                             END OF YOUR CODE                             #\n",
    "        ############################################################################\n",
    "\n",
    "        # If y is None then we are in test mode so just return scores\n",
    "        if y is None:\n",
    "            return scores\n",
    "\n",
    "        loss, grads = 0, {}\n",
    "        ############################################################################\n",
    "        # TODO: Implement the backward pass for the two-layer net. Store the loss  #\n",
    "        # in the loss variable and gradients in the grads dictionary. Compute data #\n",
    "        # loss using softmax, and make sure that grads[k] holds the gradients for  #\n",
    "        # self.params[k]. Don't forget to add L2 regularization!                   #\n",
    "        #                                                                          #\n",
    "        # NOTE: To ensure that your implementation matches ours and you pass the   #\n",
    "        # automated tests, make sure that your L2 regularization includes a factor #\n",
    "        # of 0.5 to simplify the expression for the gradient.                      #\n",
    "        ############################################################################\n",
    "        \n",
    "        loss, d_start=softmax_loss(out2,y)\n",
    "        loss=loss+self.reg*(np.sum(self.params[\"W1\"]**2)+np.sum(self.params[\"W2\"]**2))/2\n",
    "        dx2,dw2,db2=affine_backward(d_start,cache2)\n",
    "        dx1,dw1,db1=affine_relu_backward(dx2,cache1)\n",
    "        grads[\"W1\"]=dw1+self.params[\"W1\"]*self.reg\n",
    "        grads[\"W2\"]=dw2+self.params[\"W2\"]*self.reg\n",
    "        grads[\"b1\"]=db1\n",
    "        grads[\"b2\"]=db2\n",
    "        \n",
    "        ############################################################################\n",
    "        #                             END OF YOUR CODE                             #\n",
    "        ############################################################################\n",
    "\n",
    "        return loss, grads\n"
   ]
  },
  {
   "cell_type": "markdown",
   "metadata": {
    "colab_type": "text",
    "id": "wNqhdNiRTOzM"
   },
   "source": [
    " You can run the cell below to test your implementation."
   ]
  },
  {
   "cell_type": "code",
   "execution_count": 39,
   "metadata": {
    "colab": {
     "base_uri": "https://localhost:8080/",
     "height": 272
    },
    "colab_type": "code",
    "id": "0cnGhqYZ16tP",
    "outputId": "377fe075-b99a-43de-8a57-967c10a058de"
   },
   "outputs": [
    {
     "name": "stdout",
     "output_type": "stream",
     "text": [
      "Testing initialization ... \n",
      "Testing test-time forward pass ... \n",
      "Testing training loss (no regularization)\n",
      "26.594842695238583\n",
      "Running numeric gradient check with reg =  0.0\n",
      "W1 relative error: 1.83e-08\n",
      "W2 relative error: 3.12e-10\n",
      "b1 relative error: 9.83e-09\n",
      "b2 relative error: 4.33e-10\n",
      "Running numeric gradient check with reg =  0.7\n",
      "W1 relative error: 2.53e-07\n",
      "W2 relative error: 2.85e-08\n",
      "b1 relative error: 1.56e-08\n",
      "b2 relative error: 7.76e-10\n"
     ]
    }
   ],
   "source": [
    "np.random.seed(231)\n",
    "N, D, H, C = 3, 5, 50, 7\n",
    "X = np.random.randn(N, D)\n",
    "y = np.random.randint(C, size=N)\n",
    "\n",
    "std = 1e-3\n",
    "model = TwoLayerNet(input_dim=D, hidden_dim=H, num_classes=C, weight_scale=std)\n",
    "\n",
    "print('Testing initialization ... ')\n",
    "W1_std = abs(model.params['W1'].std() - std)\n",
    "b1 = model.params['b1']\n",
    "W2_std = abs(model.params['W2'].std() - std)\n",
    "b2 = model.params['b2']\n",
    "assert W1_std < std / 10, 'First layer weights do not seem right'\n",
    "assert np.all(b1 == 0), 'First layer biases do not seem right'\n",
    "assert W2_std < std / 10, 'Second layer weights do not seem right'\n",
    "assert np.all(b2 == 0), 'Second layer biases do not seem right'\n",
    "\n",
    "print('Testing test-time forward pass ... ')\n",
    "model.params['W1'] = np.linspace(-0.7, 0.3, num=D*H).reshape(D, H)\n",
    "model.params['b1'] = np.linspace(-0.1, 0.9, num=H)\n",
    "model.params['W2'] = np.linspace(-0.3, 0.4, num=H*C).reshape(H, C)\n",
    "model.params['b2'] = np.linspace(-0.9, 0.1, num=C)\n",
    "X = np.linspace(-5.5, 4.5, num=N*D).reshape(D, N).T\n",
    "scores = model.loss(X)\n",
    "\n",
    "correct_scores = np.asarray(\n",
    "  [[11.53165108,  12.2917344,   13.05181771,  13.81190102,  14.57198434, 15.33206765,  16.09215096],\n",
    "   [12.05769098,  12.74614105,  13.43459113,  14.1230412,   14.81149128, 15.49994135,  16.18839143],\n",
    "   [12.58373087,  13.20054771,  13.81736455,  14.43418138,  15.05099822, 15.66781506,  16.2846319 ]])\n",
    "scores_diff = np.abs(scores - correct_scores).sum()\n",
    "assert scores_diff < 1e-6, 'Problem with test-time forward pass'\n",
    "\n",
    "print('Testing training loss (no regularization)')\n",
    "y = np.asarray([0, 5, 1])\n",
    "loss, grads = model.loss(X, y)\n",
    "correct_loss = 3.4702243556\n",
    "assert abs(loss - correct_loss) < 1e-10, 'Problem with training-time loss'\n",
    "\n",
    "model.reg = 1.0\n",
    "loss, grads = model.loss(X, y)\n",
    "print(loss)\n",
    "correct_loss = 26.5948426952\n",
    "assert abs(loss - correct_loss) < 1e-10, 'Problem with regularization loss'\n",
    "\n",
    "# Errors should be around e-7 or less\n",
    "for reg in [0.0, 0.7]:\n",
    "  print('Running numeric gradient check with reg = ', reg)\n",
    "  model.reg = reg\n",
    "  loss, grads = model.loss(X, y)\n",
    "\n",
    "  for name in sorted(grads):\n",
    "    f = lambda _: model.loss(X, y)[0]\n",
    "    grad_num = eval_numerical_gradient(f, model.params[name], verbose=False)\n",
    "    print('%s relative error: %.2e' % (name, rel_error(grad_num, grads[name])))"
   ]
  },
  {
   "cell_type": "markdown",
   "metadata": {
    "colab_type": "text",
    "id": "B63MYb2D16tS"
   },
   "source": [
    "# Solver\n",
    "In the previous assignment, the logic for training models was coupled to the models themselves. Following a more modular design, for this assignment we have split the logic for training models into a separate class.\n",
    "\n",
    "Read through the `Solver` implementation below to familiarize yourself with the API. After doing so, use a `Solver` instance to train a `TwoLayerNet` that achieves at least `50%` accuracy on the validation set."
   ]
  },
  {
   "cell_type": "markdown",
   "metadata": {
    "colab_type": "text",
    "id": "oKnf1drA8Moi"
   },
   "source": [
    "# Solver and gradient descent update rules\n",
    "\n",
    "Here we implement various first-order update rules that are commonly used\n",
    "for training neural networks. Each update rule accepts current weights and the\n",
    "gradient of the loss with respect to those weights and produces the next set of\n",
    "weights. Each update rule has the same interface:\n",
    "\n",
    "def update(w, dw, config=None):\n",
    "\n",
    "Inputs:\n",
    "  - w: A numpy array giving the current weights.\n",
    "  - dw: A numpy array of the same shape as w giving the gradient of the\n",
    "    loss with respect to w.\n",
    "  - config: A dictionary containing hyperparameter values such as learning\n",
    "    rate, momentum, etc. If the update rule requires caching values over many\n",
    "    iterations, then config will also hold these cached values.\n",
    "\n",
    "Returns:\n",
    "  - next_w: The next point after the update.\n",
    "  - config: The config dictionary to be passed to the next iteration of the\n",
    "    update rule.\n",
    "\n",
    "NOTE: For most update rules, the default learning rate will probably not\n",
    "perform well; however the default values of the other hyperparameters should\n",
    "work well for a variety of different problems.\n",
    "\n",
    "For efficiency, update rules may perform in-place updates, mutating w and\n",
    "setting next_w equal to w.\n",
    "\n",
    "\n"
   ]
  },
  {
   "cell_type": "code",
   "execution_count": 0,
   "metadata": {
    "colab": {},
    "colab_type": "code",
    "id": "1l8ocjpp7K_4"
   },
   "outputs": [],
   "source": [
    "def sgd(w, dw, config=None):\n",
    "    \"\"\"\n",
    "    Performs vanilla stochastic gradient descent.\n",
    "\n",
    "    config format:\n",
    "    - learning_rate: Scalar learning rate.\n",
    "    \"\"\"\n",
    "    if config is None: config = {}\n",
    "    config.setdefault('learning_rate', 1e-2)\n",
    "\n",
    "    w -= config['learning_rate'] * dw\n",
    "    return w, config\n",
    "\n",
    "\n",
    "class Solver(object):\n",
    "    \"\"\"\n",
    "    A Solver encapsulates all the logic necessary for training classification\n",
    "    models. The Solver performs stochastic gradient descent using different\n",
    "    update rules defined in optim.py.\n",
    "\n",
    "    The solver accepts both training and validataion data and labels so it can\n",
    "    periodically check classification accuracy on both training and validation\n",
    "    data to watch out for overfitting.\n",
    "\n",
    "    To train a model, you will first construct a Solver instance, passing the\n",
    "    model, dataset, and various options (learning rate, batch size, etc) to the\n",
    "    constructor. You will then call the train() method to run the optimization\n",
    "    procedure and train the model.\n",
    "\n",
    "    After the train() method returns, model.params will contain the parameters\n",
    "    that performed best on the validation set over the course of training.\n",
    "    In addition, the instance variable solver.loss_history will contain a list\n",
    "    of all losses encountered during training and the instance variables\n",
    "    solver.train_acc_history and solver.val_acc_history will be lists of the\n",
    "    accuracies of the model on the training and validation set at each epoch.\n",
    "\n",
    "    Example usage might look something like this:\n",
    "\n",
    "    data = {\n",
    "      'X_train': # training data\n",
    "      'y_train': # training labels\n",
    "      'X_val': # validation data\n",
    "      'y_val': # validation labels\n",
    "    }\n",
    "    model = MyAwesomeModel(hidden_size=100, reg=10)\n",
    "    solver = Solver(model, data,\n",
    "                    update_rule='sgd',\n",
    "                    optim_config={\n",
    "                      'learning_rate': 1e-3,\n",
    "                    },\n",
    "                    lr_decay=0.95,\n",
    "                    num_epochs=10, batch_size=100,\n",
    "                    print_every=100)\n",
    "    solver.train()\n",
    "\n",
    "\n",
    "    A Solver works on a model object that must conform to the following API:\n",
    "\n",
    "    - model.params must be a dictionary mapping string parameter names to numpy\n",
    "      arrays containing parameter values.\n",
    "\n",
    "    - model.loss(X, y) must be a function that computes training-time loss and\n",
    "      gradients, and test-time classification scores, with the following inputs\n",
    "      and outputs:\n",
    "\n",
    "      Inputs:\n",
    "      - X: Array giving a minibatch of input data of shape (N, d_1, ..., d_k)\n",
    "      - y: Array of labels, of shape (N,) giving labels for X where y[i] is the\n",
    "        label for X[i].\n",
    "\n",
    "      Returns:\n",
    "      If y is None, run a test-time forward pass and return:\n",
    "      - scores: Array of shape (N, C) giving classification scores for X where\n",
    "        scores[i, c] gives the score of class c for X[i].\n",
    "\n",
    "      If y is not None, run a training time forward and backward pass and\n",
    "      return a tuple of:\n",
    "      - loss: Scalar giving the loss\n",
    "      - grads: Dictionary with the same keys as self.params mapping parameter\n",
    "        names to gradients of the loss with respect to those parameters.\n",
    "    \"\"\"\n",
    "\n",
    "    def __init__(self, model, data, **kwargs):\n",
    "        \"\"\"\n",
    "        Construct a new Solver instance.\n",
    "\n",
    "        Required arguments:\n",
    "        - model: A model object conforming to the API described above\n",
    "        - data: A dictionary of training and validation data containing:\n",
    "          'X_train': Array, shape (N_train, d_1, ..., d_k) of training images\n",
    "          'X_val': Array, shape (N_val, d_1, ..., d_k) of validation images\n",
    "          'y_train': Array, shape (N_train,) of labels for training images\n",
    "          'y_val': Array, shape (N_val,) of labels for validation images\n",
    "\n",
    "        Optional arguments:\n",
    "        - update_rule: A string giving the name of an update rule in optim.py.\n",
    "          Default is 'sgd'.\n",
    "        - optim_config: A dictionary containing hyperparameters that will be\n",
    "          passed to the chosen update rule. Each update rule requires different\n",
    "          hyperparameters (see optim.py) but all update rules require a\n",
    "          'learning_rate' parameter so that should always be present.\n",
    "        - lr_decay: A scalar for learning rate decay; after each epoch the\n",
    "          learning rate is multiplied by this value.\n",
    "        - batch_size: Size of minibatches used to compute loss and gradient\n",
    "          during training.\n",
    "        - num_epochs: The number of epochs to run for during training.\n",
    "        - print_every: Integer; training losses will be printed every\n",
    "          print_every iterations.\n",
    "        - verbose: Boolean; if set to false then no output will be printed\n",
    "          during training.\n",
    "        - num_train_samples: Number of training samples used to check training\n",
    "          accuracy; default is 1000; set to None to use entire training set.\n",
    "        - num_val_samples: Number of validation samples to use to check val\n",
    "          accuracy; default is None, which uses the entire validation set.\n",
    "        - checkpoint_name: If not None, then save model checkpoints here every\n",
    "          epoch.\n",
    "        \"\"\"\n",
    "        self.model = model\n",
    "        self.X_train = data['X_train']\n",
    "        self.y_train = data['y_train']\n",
    "        self.X_val = data['X_val']\n",
    "        self.y_val = data['y_val']\n",
    "\n",
    "        # Unpack keyword arguments\n",
    "        self.update_rule = kwargs.pop('update_rule', 'sgd')\n",
    "        self.optim_config = kwargs.pop('optim_config', {})\n",
    "        self.lr_decay = kwargs.pop('lr_decay', 1.0)\n",
    "        self.batch_size = kwargs.pop('batch_size', 100)\n",
    "        self.num_epochs = kwargs.pop('num_epochs', 10)\n",
    "        self.num_train_samples = kwargs.pop('num_train_samples', 1000)\n",
    "        self.num_val_samples = kwargs.pop('num_val_samples', None)\n",
    "\n",
    "        self.checkpoint_name = kwargs.pop('checkpoint_name', None)\n",
    "        self.print_every = kwargs.pop('print_every', 10)\n",
    "        self.verbose = kwargs.pop('verbose', True)\n",
    "\n",
    "        # Throw an error if there are extra keyword arguments\n",
    "        if len(kwargs) > 0:\n",
    "            extra = ', '.join('\"%s\"' % k for k in list(kwargs.keys()))\n",
    "            raise ValueError('Unrecognized arguments %s' % extra)\n",
    "\n",
    "        # Make sure the update rule exists, then replace the string\n",
    "        # name with the actual function\n",
    "        print('update_rule', self.update_rule)\n",
    "        if self.update_rule not in globals():\n",
    "            raise ValueError('Invalid update_rule \"%s\"' % self.update_rule)\n",
    "        self.update_rule = globals()[self.update_rule]\n",
    "\n",
    "        self._reset()\n",
    "\n",
    "\n",
    "    def _reset(self):\n",
    "        \"\"\"\n",
    "        Set up some book-keeping variables for optimization. Don't call this\n",
    "        manually.\n",
    "        \"\"\"\n",
    "        # Set up some variables for book-keeping\n",
    "        self.epoch = 0\n",
    "        self.best_val_acc = 0\n",
    "        self.best_params = {}\n",
    "        self.loss_history = []\n",
    "        self.train_acc_history = []\n",
    "        self.val_acc_history = []\n",
    "\n",
    "        # Make a deep copy of the optim_config for each parameter\n",
    "        self.optim_configs = {}\n",
    "        for p in self.model.params:\n",
    "            d = {k: v for k, v in self.optim_config.items()}\n",
    "            self.optim_configs[p] = d\n",
    "\n",
    "\n",
    "    def _step(self):\n",
    "        \"\"\"\n",
    "        Make a single gradient update. This is called by train() and should not\n",
    "        be called manually.\n",
    "        \"\"\"\n",
    "        # Make a minibatch of training data\n",
    "        num_train = self.X_train.shape[0]\n",
    "        batch_mask = np.random.choice(num_train, self.batch_size)\n",
    "        X_batch = self.X_train[batch_mask]\n",
    "        y_batch = self.y_train[batch_mask]\n",
    "\n",
    "        # Compute loss and gradient\n",
    "        loss, grads = self.model.loss(X_batch, y_batch)\n",
    "        self.loss_history.append(loss)\n",
    "\n",
    "        # Perform a parameter update\n",
    "        for p, w in self.model.params.items():\n",
    "            dw = grads[p]\n",
    "            config = self.optim_configs[p]\n",
    "            next_w, next_config = self.update_rule(w, dw, config)\n",
    "            self.model.params[p] = next_w\n",
    "            self.optim_configs[p] = next_config\n",
    "\n",
    "\n",
    "    def _save_checkpoint(self):\n",
    "        if self.checkpoint_name is None: return\n",
    "        checkpoint = {\n",
    "          'model': self.model,\n",
    "          'update_rule': self.update_rule,\n",
    "          'lr_decay': self.lr_decay,\n",
    "          'optim_config': self.optim_config,\n",
    "          'batch_size': self.batch_size,\n",
    "          'num_train_samples': self.num_train_samples,\n",
    "          'num_val_samples': self.num_val_samples,\n",
    "          'epoch': self.epoch,\n",
    "          'loss_history': self.loss_history,\n",
    "          'train_acc_history': self.train_acc_history,\n",
    "          'val_acc_history': self.val_acc_history,\n",
    "        }\n",
    "        filename = '%s_epoch_%d.pkl' % (self.checkpoint_name, self.epoch)\n",
    "        if self.verbose:\n",
    "            print('Saving checkpoint to \"%s\"' % filename)\n",
    "        with open(filename, 'wb') as f:\n",
    "            pickle.dump(checkpoint, f)\n",
    "\n",
    "\n",
    "    def check_accuracy(self, X, y, num_samples=None, batch_size=100):\n",
    "        \"\"\"\n",
    "        Check accuracy of the model on the provided data.\n",
    "\n",
    "        Inputs:\n",
    "        - X: Array of data, of shape (N, d_1, ..., d_k)\n",
    "        - y: Array of labels, of shape (N,)\n",
    "        - num_samples: If not None, subsample the data and only test the model\n",
    "          on num_samples datapoints.\n",
    "        - batch_size: Split X and y into batches of this size to avoid using\n",
    "          too much memory.\n",
    "\n",
    "        Returns:\n",
    "        - acc: Scalar giving the fraction of instances that were correctly\n",
    "          classified by the model.\n",
    "        \"\"\"\n",
    "\n",
    "        # Maybe subsample the data\n",
    "        N = X.shape[0]\n",
    "        if num_samples is not None and N > num_samples:\n",
    "            mask = np.random.choice(N, num_samples)\n",
    "            N = num_samples\n",
    "            X = X[mask]\n",
    "            y = y[mask]\n",
    "\n",
    "        # Compute predictions in batches\n",
    "        num_batches = N // batch_size\n",
    "        if N % batch_size != 0:\n",
    "            num_batches += 1\n",
    "        y_pred = []\n",
    "        for i in range(num_batches):\n",
    "            start = i * batch_size\n",
    "            end = (i + 1) * batch_size\n",
    "            scores = self.model.loss(X[start:end])\n",
    "            y_pred.append(np.argmax(scores, axis=1))\n",
    "        y_pred = np.hstack(y_pred)\n",
    "        acc = np.mean(y_pred == y)\n",
    "\n",
    "        return acc\n",
    "\n",
    "\n",
    "    def train(self):\n",
    "        \"\"\"\n",
    "        Run optimization to train the model.\n",
    "        \"\"\"\n",
    "        num_train = self.X_train.shape[0]\n",
    "        iterations_per_epoch = max(num_train // self.batch_size, 1)\n",
    "        num_iterations = self.num_epochs * iterations_per_epoch\n",
    "\n",
    "        for t in range(num_iterations):\n",
    "            self._step()\n",
    "\n",
    "            # Maybe print training loss\n",
    "            if self.verbose and t % self.print_every == 0:\n",
    "                print('(Iteration %d / %d) loss: %f' % (\n",
    "                       t + 1, num_iterations, self.loss_history[-1]))\n",
    "\n",
    "            # At the end of every epoch, increment the epoch counter and decay\n",
    "            # the learning rate.\n",
    "            epoch_end = (t + 1) % iterations_per_epoch == 0\n",
    "            if epoch_end:\n",
    "                self.epoch += 1\n",
    "                for k in self.optim_configs:\n",
    "                    self.optim_configs[k]['learning_rate'] *= self.lr_decay\n",
    "\n",
    "            # Check train and val accuracy on the first iteration, the last\n",
    "            # iteration, and at the end of each epoch.\n",
    "            first_it = (t == 0)\n",
    "            last_it = (t == num_iterations - 1)\n",
    "            if first_it or last_it or epoch_end:\n",
    "                train_acc = self.check_accuracy(self.X_train, self.y_train,\n",
    "                    num_samples=self.num_train_samples)\n",
    "                val_acc = self.check_accuracy(self.X_val, self.y_val,\n",
    "                    num_samples=self.num_val_samples)\n",
    "                self.train_acc_history.append(train_acc)\n",
    "                self.val_acc_history.append(val_acc)\n",
    "                self._save_checkpoint()\n",
    "\n",
    "                if self.verbose:\n",
    "                    print('(Epoch %d / %d) train acc: %f; val_acc: %f' % (\n",
    "                           self.epoch, self.num_epochs, train_acc, val_acc))\n",
    "\n",
    "                # Keep track of the best model\n",
    "                if val_acc > self.best_val_acc:\n",
    "                    self.best_val_acc = val_acc\n",
    "                    self.best_params = {}\n",
    "                    for k, v in self.model.params.items():\n",
    "                        self.best_params[k] = v.copy()\n",
    "\n",
    "        # At the end of training swap the best params into the model\n",
    "        self.model.params = self.best_params\n"
   ]
  },
  {
   "cell_type": "code",
   "execution_count": 41,
   "metadata": {
    "colab": {
     "base_uri": "https://localhost:8080/",
     "height": 1000
    },
    "colab_type": "code",
    "id": "cqNdlkhu16tU",
    "outputId": "44fe1486-dff6-4a19-de6e-00437a69b5cf"
   },
   "outputs": [
    {
     "name": "stdout",
     "output_type": "stream",
     "text": [
      "update_rule sgd\n",
      "(Iteration 1 / 4900) loss: 2.302176\n",
      "(Epoch 0 / 10) train acc: 0.122000; val_acc: 0.113000\n",
      "(Iteration 101 / 4900) loss: 1.819785\n",
      "(Iteration 201 / 4900) loss: 1.875133\n",
      "(Iteration 301 / 4900) loss: 1.733245\n",
      "(Iteration 401 / 4900) loss: 1.417471\n",
      "(Epoch 1 / 10) train acc: 0.412000; val_acc: 0.426000\n",
      "(Iteration 501 / 4900) loss: 1.521155\n",
      "(Iteration 601 / 4900) loss: 1.666212\n",
      "(Iteration 701 / 4900) loss: 1.722885\n",
      "(Iteration 801 / 4900) loss: 1.674094\n",
      "(Iteration 901 / 4900) loss: 1.428168\n",
      "(Epoch 2 / 10) train acc: 0.488000; val_acc: 0.466000\n",
      "(Iteration 1001 / 4900) loss: 1.466334\n",
      "(Iteration 1101 / 4900) loss: 1.337356\n",
      "(Iteration 1201 / 4900) loss: 1.652122\n",
      "(Iteration 1301 / 4900) loss: 1.501251\n",
      "(Iteration 1401 / 4900) loss: 1.203111\n",
      "(Epoch 3 / 10) train acc: 0.522000; val_acc: 0.470000\n",
      "(Iteration 1501 / 4900) loss: 1.309333\n",
      "(Iteration 1601 / 4900) loss: 1.245656\n",
      "(Iteration 1701 / 4900) loss: 1.261046\n",
      "(Iteration 1801 / 4900) loss: 1.277803\n",
      "(Iteration 1901 / 4900) loss: 1.369545\n",
      "(Epoch 4 / 10) train acc: 0.530000; val_acc: 0.495000\n",
      "(Iteration 2001 / 4900) loss: 1.335404\n",
      "(Iteration 2101 / 4900) loss: 1.412447\n",
      "(Iteration 2201 / 4900) loss: 1.278082\n",
      "(Iteration 2301 / 4900) loss: 1.266595\n",
      "(Iteration 2401 / 4900) loss: 1.298894\n",
      "(Epoch 5 / 10) train acc: 0.532000; val_acc: 0.496000\n",
      "(Iteration 2501 / 4900) loss: 1.435021\n",
      "(Iteration 2601 / 4900) loss: 1.269970\n",
      "(Iteration 2701 / 4900) loss: 1.109394\n",
      "(Iteration 2801 / 4900) loss: 1.206896\n",
      "(Iteration 2901 / 4900) loss: 1.294755\n",
      "(Epoch 6 / 10) train acc: 0.556000; val_acc: 0.514000\n",
      "(Iteration 3001 / 4900) loss: 1.263321\n",
      "(Iteration 3101 / 4900) loss: 1.418584\n",
      "(Iteration 3201 / 4900) loss: 1.230198\n",
      "(Iteration 3301 / 4900) loss: 1.277582\n",
      "(Iteration 3401 / 4900) loss: 1.491852\n",
      "(Epoch 7 / 10) train acc: 0.572000; val_acc: 0.507000\n",
      "(Iteration 3501 / 4900) loss: 1.197640\n",
      "(Iteration 3601 / 4900) loss: 1.067128\n",
      "(Iteration 3701 / 4900) loss: 1.252729\n",
      "(Iteration 3801 / 4900) loss: 1.129912\n",
      "(Iteration 3901 / 4900) loss: 1.117630\n",
      "(Epoch 8 / 10) train acc: 0.589000; val_acc: 0.500000\n",
      "(Iteration 4001 / 4900) loss: 1.207669\n",
      "(Iteration 4101 / 4900) loss: 1.370751\n",
      "(Iteration 4201 / 4900) loss: 1.199053\n",
      "(Iteration 4301 / 4900) loss: 1.011293\n",
      "(Iteration 4401 / 4900) loss: 1.306602\n",
      "(Epoch 9 / 10) train acc: 0.578000; val_acc: 0.519000\n",
      "(Iteration 4501 / 4900) loss: 1.008577\n",
      "(Iteration 4601 / 4900) loss: 1.356864\n",
      "(Iteration 4701 / 4900) loss: 0.958366\n",
      "(Iteration 4801 / 4900) loss: 0.960944\n",
      "(Epoch 10 / 10) train acc: 0.612000; val_acc: 0.532000\n"
     ]
    }
   ],
   "source": [
    "model = TwoLayerNet()\n",
    "data = {'X_train': X_train, \n",
    "        'y_train': y_train,\n",
    "        'X_val': X_val,\n",
    "        'y_val': y_val}\n",
    "\n",
    "##############################################################################\n",
    "# TODO: Use a Solver instance to train a TwoLayerNet that achieves at least  #\n",
    "# 50% accuracy on the validation set.                                        #\n",
    "##############################################################################\n",
    "\n",
    "\n",
    "solver = Solver(model, data,\n",
    "                    update_rule='sgd',\n",
    "                    optim_config={\n",
    "                      'learning_rate': 1e-3,\n",
    "                    },\n",
    "                    lr_decay=0.95,\n",
    "                    num_epochs=10, batch_size=100,\n",
    "                    print_every=100)\n",
    "solver.train()\n",
    "\n",
    "#solver=Solver(model, data,update_rule='sgd')\n",
    "\n",
    "\n",
    "\n",
    "\n",
    "\n",
    "\n",
    "##############################################################################\n",
    "#                             END OF YOUR CODE                               #\n",
    "##############################################################################"
   ]
  },
  {
   "cell_type": "markdown",
   "metadata": {
    "colab_type": "text",
    "id": "vNOTTL6douZW"
   },
   "source": [
    "Run this cell to visualize training loss and training and validation accuracies"
   ]
  },
  {
   "cell_type": "code",
   "execution_count": 0,
   "metadata": {
    "colab": {
     "base_uri": "https://localhost:8080/",
     "height": 756
    },
    "colab_type": "code",
    "id": "3wWoIxLs16tW",
    "outputId": "e4828d54-910f-433e-d95d-b5c717e63055"
   },
   "outputs": [
    {
     "data": {
      "image/png": "[encoded data removed]",
      "text/plain": [
       "<Figure size 1080x864 with 2 Axes>"
      ]
     },
     "metadata": {
      "tags": []
     },
     "output_type": "display_data"
    }
   ],
   "source": [
    "plt.subplot(2, 1, 1)\n",
    "plt.title('Training loss')\n",
    "plt.plot(solver.loss_history, 'o')\n",
    "plt.xlabel('Iteration')\n",
    "\n",
    "plt.subplot(2, 1, 2)\n",
    "plt.title('Accuracy')\n",
    "plt.plot(solver.train_acc_history, '-o', label='train')\n",
    "plt.plot(solver.val_acc_history, '-o', label='val')\n",
    "plt.plot([0.5] * len(solver.val_acc_history), 'k--')\n",
    "plt.xlabel('Epoch')\n",
    "plt.legend(loc='lower right')\n",
    "plt.gcf().set_size_inches(15, 12)\n",
    "plt.show()"
   ]
  },
  {
   "cell_type": "markdown",
   "metadata": {
    "colab_type": "text",
    "id": "OKW5Ed1k16tZ"
   },
   "source": [
    "# Multilayer network\n",
    "Next you will implement a fully-connected network with an arbitrary number of hidden layers.\n",
    "\n",
    "Read through the `FullyConnectedNet` class below and implement the initialization, the forward pass, and the backward pass. For the moment don't worry about implementing batch normalization or dropout; we will add those features soon."
   ]
  },
  {
   "cell_type": "code",
   "execution_count": 0,
   "metadata": {
    "colab": {},
    "colab_type": "code",
    "id": "9dgQeZYVn8iR"
   },
   "outputs": [],
   "source": [
    "class FullyConnectedNet(object):\n",
    "    \"\"\"\n",
    "    A fully-connected neural network with an arbitrary number of hidden layers,\n",
    "    ReLU nonlinearities, and a softmax loss function. This will also implement\n",
    "    dropout and batch normalization as options. For a network with L layers,\n",
    "    the architecture will be\n",
    "\n",
    "    {affine - [batchnorm] - relu - [dropout]} x (L - 1) - affine - softmax\n",
    "\n",
    "    where batch normalization and dropout are optional, and the {...} block is\n",
    "    repeated L - 1 times.\n",
    "\n",
    "    Similar to the TwoLayerNet above, learnable parameters are stored in the\n",
    "    self.params dictionary and will be learned using the Solver class.\n",
    "    \"\"\"\n",
    "\n",
    "    def __init__(self, hidden_dims, input_dim=3*32*32, num_classes=10,\n",
    "                 dropout=1, batchnorm=False, reg=0.0,\n",
    "                 weight_scale=1e-2, dtype=np.float32, seed=None):\n",
    "        \"\"\"\n",
    "        Initialize a new FullyConnectedNet.\n",
    "\n",
    "        Inputs:\n",
    "        - hidden_dims: A list of integers giving the size of each hidden layer.\n",
    "        - input_dim: An integer giving the size of the input.\n",
    "        - num_classes: An integer giving the number of classes to classify.\n",
    "        - dropout: Scalar between 0 and 1 giving dropout strength. If dropout=1 then\n",
    "          the network should not use dropout at all.\n",
    "        - batchnorm: Include batch normalization if True.\n",
    "        - reg: Scalar giving L2 regularization strength.\n",
    "        - weight_scale: Scalar giving the standard deviation for random\n",
    "          initialization of the weights.\n",
    "        - dtype: A numpy datatype object; all computations will be performed using\n",
    "          this datatype. float32 is faster but less accurate, so you should use\n",
    "          float64 for numeric gradient checking.\n",
    "        - seed: If not None, then pass this random seed to the dropout layers. This\n",
    "          will make the dropout layers deteriminstic so we can gradient check the\n",
    "          model.\n",
    "        \"\"\"\n",
    "        self.batchnorm = batchnorm\n",
    "        self.use_dropout = dropout != 1\n",
    "        self.reg = reg\n",
    "        self.num_layers = 1 + len(hidden_dims)\n",
    "        self.dtype = dtype\n",
    "        self.params = {}\n",
    "\n",
    "        ############################################################################\n",
    "        # TODO: Initialize the parameters of the network, storing all values in    #\n",
    "        # the self.params dictionary. Store weights and biases for the first layer #\n",
    "        # in W1 and b1; for the second layer use W2 and b2, etc. Weights should be #\n",
    "        # initialized from a normal distribution centered at 0 with standard       #\n",
    "        # deviation equal to weight_scale. Biases should be initialized to zero.   #\n",
    "        #                                                                          #\n",
    "        # When using batch normalization, store scale and shift parameters for the #\n",
    "        # first layer in gamma1 and beta1; for the second layer use gamma2 and     #\n",
    "        # beta2, etc. Scale parameters should be initialized to ones and shift     #\n",
    "        # parameters should be initialized to zeros.                               #\n",
    "        ############################################################################\n",
    "\n",
    "        \n",
    "\n",
    "        for i in range(len(hidden_dims)):\n",
    "          if i==0:\n",
    "            init=input_dim\n",
    "          else:\n",
    "            init=hidden_dims[i-1]\n",
    "          \n",
    "          self.params[\"W\"+str(i+1)]=np.random.normal(0.0,weight_scale,(init,hidden_dims[i]))\n",
    "          self.params[\"b\"+str(i+1)]=np.zeros(hidden_dims[i])\n",
    "          if self.batchnorm:\n",
    "            self.params[\"gamma\"+str(i+1)]=np.ones(hidden_dims[i])\n",
    "            self.params[\"beta\"+str(i+1)]=np.zeros(hidden_dims[i])\n",
    "          \n",
    "        #print(len(hidden_dims)+1)\n",
    "        self.params[\"W\"+str(len(hidden_dims)+1)]=np.random.normal(0.0,weight_scale,(hidden_dims[-1],num_classes))\n",
    "        self.params[\"b\"+str(len(hidden_dims)+1)]=np.zeros(num_classes)\n",
    "        \n",
    "        \n",
    "        \n",
    "        \n",
    "        \n",
    "        \n",
    "        \n",
    "        ############################################################################\n",
    "        #                             END OF YOUR CODE                             #\n",
    "        ############################################################################\n",
    "\n",
    "        # When using dropout we need to pass a dropout_param dictionary to each\n",
    "        # dropout layer so that the layer knows the dropout probability and the mode\n",
    "        # (train / test). You can pass the same dropout_param to each dropout layer.\n",
    "        self.dropout_param = {}\n",
    "        if self.use_dropout:\n",
    "            self.dropout_param = {'mode': 'train', 'p': dropout}\n",
    "            if seed is not None:\n",
    "                self.dropout_param['seed'] = seed\n",
    "\n",
    "        # With batch normalization we need to keep track of running means and\n",
    "        # variances, so we need to pass a special bn_param object to each batch\n",
    "        # normalization layer. You should pass self.bn_params[0] to the forward pass\n",
    "        # of the first batch normalization layer, self.bn_params[1] to the forward\n",
    "        # pass of the second batch normalization layer, etc.\n",
    "        self.bn_params = []\n",
    "        if self.batchnorm:\n",
    "            self.bn_params = [{'mode': 'train'} for i in range(self.num_layers - 1)]\n",
    "\n",
    "        # Cast all parameters to the correct datatype\n",
    "        for k, v in self.params.items():\n",
    "            self.params[k] = v.astype(dtype)\n",
    "\n",
    "\n",
    "    def loss(self, X, y=None):\n",
    "        \"\"\"\n",
    "        Compute loss and gradient for the fully-connected net.\n",
    "\n",
    "        Input / output: Same as TwoLayerNet above.\n",
    "        \"\"\"\n",
    "        X = X.astype(self.dtype)\n",
    "        mode = 'test' if y is None else 'train'\n",
    "\n",
    "        # Set train/test mode for batchnorm params and dropout param since they\n",
    "        # behave differently during training and testing.\n",
    "        if self.use_dropout:\n",
    "            self.dropout_param['mode'] = mode\n",
    "        if self.batchnorm:\n",
    "            for bn_param in self.bn_params:\n",
    "                bn_param['mode'] = mode\n",
    "        scores = None\n",
    "        ############################################################################\n",
    "        # TODO: Implement the forward pass for the fully-connected net, computing  #\n",
    "        # the class scores for X and storing them in the scores variable.          #\n",
    "        #                                                                          #\n",
    "        # When using dropout, you'll need to pass self.dropout_param to each       #\n",
    "        # dropout forward pass.                                                    #\n",
    "        #                                                                          #\n",
    "        # When using batch normalization, you'll need to pass self.bn_params[0] to #\n",
    "        # the forward pass for the first batch normalization layer, pass           #\n",
    "        # self.bn_params[1] to the forward pass for the second batch normalization #\n",
    "        # layer, etc.                                                              #\n",
    "        ############################################################################\n",
    "        cache={}\n",
    "        out={}\n",
    "        import sys\n",
    "        eps=sys.float_info.epsilon\n",
    "        #sys.float_info.epsilon\n",
    "        def bn_forward(x,gamma,beta):\n",
    "          m=x.shape[0]\n",
    "          cache=(x,gamma,beta)\n",
    "          deviation=np.sum((x-np.mean(x,0))**2,0)/m\n",
    "          out=(x-np.mean(x,0))/np.sqrt(deviation+eps)*gamma+beta\n",
    "          return out,cache\n",
    "        def bn_backward(dout,cache):\n",
    "#           x,gamma,beta=cache\n",
    "#           m=x.shape[0]\n",
    "#           dx,dgamma,dbeta=None,None,None\n",
    "#           #out=(x-np.mean(x,0))/np.sqrt((np.std(x,0)**2+eps))*gamma+beta\n",
    "#           deviation=np.sum((x-np.mean(x,0))**2,0)/m\n",
    "\n",
    "#           x_norm=(x-np.mean(x,0))/np.sqrt((deviation+eps))\n",
    "#           miu=np.mean(x,0)\n",
    "#           std=np.std(x,0)\n",
    "#           d_normx=dout*gamma\n",
    "#           d_deviation=np.sum(d_normx*(x-miu),0)*(-0.5)*(std**2+eps)**(-1.5)\n",
    "#           d_miu=np.sum(d_normx*(-1)/np.sqrt(std**2+eps),0)+d_deviation*(np.sum(-2*(x-miu),0))/m\n",
    "          \n",
    "#           dx=d_normx/np.sqrt(std**2+eps)+d_deviation*2*(x-miu)/m+d_miu/m\n",
    "#           dgamma=np.sum(dout*x_norm,0)\n",
    "#           dbeta=np.sum(dout,0)\n",
    "          x,gamma,beta=cache\n",
    "          eps=sys.float_info.epsilon\n",
    "          m=x.shape[0]\n",
    "          dx,dgamma,dbeta=None,None,None\n",
    "          #out=(x-np.mean(x,0))/np.sqrt((np.std(x,0)**2+eps))*gamma+beta\n",
    "          std=np.std(x,0)\n",
    "          #out=(x-np.mean(x,0))/np.sqrt((std**2+eps))*gamma+beta          \n",
    "          x_norm=(x-np.mean(x,0))/np.sqrt(std**2+eps)\n",
    "\n",
    "          miu=np.mean(x,0)\n",
    "          std=np.std(x,0)\n",
    "          d_normx=dout*gamma\n",
    "          d_deviation=np.sum(d_normx*(x-miu),0)*(-0.5)*(std**2+eps)**(-1.5)\n",
    "          d_miu=np.sum(d_normx*(-1)/np.sqrt(std**2+eps),0)+d_deviation*(np.sum(-2*(x-miu),0))/m\n",
    "\n",
    "          dx=d_normx/np.sqrt(std**2+eps)+d_deviation*2*(x-miu)/m+d_miu/m\n",
    "          #print(dout.shape,\"dou.shape\")\n",
    "          #print(out.shape,\"ou.shape\")\n",
    "          dgamma=np.sum(dout*x_norm,0)\n",
    "         # print(dout,\"dout\",x_norm,\"out\")\n",
    "          dbeta=np.sum(dout,0)\n",
    "\n",
    "          \n",
    "          \n",
    "          \n",
    "          return dx,dgamma,dbeta     \n",
    "        def dropout_foward(x):\n",
    "          select_element=np.random.binomial(1,1,x.shape)\n",
    "          out=x*select_element/self.dropout_param['p']\n",
    "          \n",
    "          cache=x,select_element\n",
    "          return out, cache\n",
    "        def dropout_backward(dout,cache):\n",
    "          #print(dout.shape,\"in dfrop\")\n",
    "          x,select_element=cache\n",
    "          dout=dout*select_element/self.dropout_param['p']\n",
    "          #print(dout.shape,\"in dfrop1\")\n",
    "          return dout\n",
    "          \n",
    "        for i in range(self.num_layers):\n",
    "          #print(X.shape)\n",
    "          \n",
    "          if i==0:\n",
    "            input=X\n",
    "          else:\n",
    "            input=out\n",
    "          out, cache[\"affine\"+str(i+1)]=affine_forward(input,self.params['W'+str(i+1)],self.params['b'+str(i+1)])\n",
    "          if i<self.num_layers-1:\n",
    "            if self.batchnorm:\n",
    "              out,cache[\"bn\"+str(i+1)]=bn_forward(out,self.params['gamma'+str(i+1)],self.params['beta'+str(i+1)])\n",
    "          \n",
    "            out,cache[\"relu\"+str(i+1)]=relu_forward(out)\n",
    "            if self.use_dropout==True:\n",
    "              out,cache[\"dropout\"+str(i+1)]=dropout_foward(out)\n",
    "          \n",
    "        #out[\"affine\"+str(self.num_layers)], cache[\"affine\"+str(self.num_layers)]=affine_forward(out[\"dropout\"+str(self.num_layers-1)],self.params['w'+str(self.num_layers)],self.params['b'+str(self.num_layers)])\n",
    "        scores=out\n",
    "        \n",
    "        \n",
    "        \n",
    "        \n",
    "        \n",
    "        \n",
    "        \n",
    "        \n",
    "        ############################################################################\n",
    "        #                             END OF YOUR CODE                             #\n",
    "        ############################################################################\n",
    "\n",
    "        # If test mode return early\n",
    "        if mode == 'test':\n",
    "            return scores\n",
    "      \n",
    "        loss, grads = 0.0, {}\n",
    "        ############################################################################\n",
    "        # TODO: Implement the backward pass for the fully-connected net. Store the #\n",
    "        # loss in the loss variable and gradients in the grads dictionary. Compute #\n",
    "        # data loss using softmax, and make sure that grads[k] holds the gradients #\n",
    "        # for self.params[k]. Don't forget to add L2 regularization!               #\n",
    "        #                                                                          #\n",
    "        # When using batch normalization, you don't need to regularize the scale   #\n",
    "        # and shift parameters.                                                    #\n",
    "        #                                                                          #\n",
    "        # NOTE: To ensure that your implementation matches ours and you pass the   #\n",
    "        # automated tests, make sure that your L2 regularization includes a factor #\n",
    "        # of 0.5 to simplify the expression for the gradient.                      #\n",
    "        ############################################################################\n",
    "        \n",
    "        out,dout  =softmax_loss(scores,y)\n",
    "        self.reg*(np.sum(self.params[\"W1\"]**2)+np.sum(self.params[\"W2\"]**2))/2\n",
    "        loss=out\n",
    "        for i in range(self.num_layers):\n",
    "          loss=loss+self.reg*(np.sum(self.params[\"W\"+str(i+1)]**2))/2\n",
    "        for i in range(self.num_layers,0,-1):\n",
    "          if i==self.num_layers:\n",
    "            #dout=dout_top\n",
    "            dout,grads['W'+str(i)],grads['b'+str(i)]=affine_backward(dout,cache[\"affine\"+str(self.num_layers)])\n",
    "          else:\n",
    "            #print(dout.shape,\"affineout.shape\")\n",
    "            #print(dout[1,1]\n",
    "            #print(cache['dropout'+str(i)].shape,\"cache['dropout'+str(i)].shape\")\n",
    "            if self.use_dropout==True:\n",
    "              dout=dropout_backward(dout,cache['dropout'+str(i)])\n",
    "            #print(dout.shape,\"dropdout.shape\")\n",
    "            #relu_backward(dout,cache['relu'+str(i)])\n",
    "            #print(dout.shape,\"reludout.shape\")\n",
    "            dout=relu_backward(dout,cache['relu'+str(i)])\n",
    "            if self.batchnorm:\n",
    "              dout,grads[\"gamma\"+str(i)],grads[\"beta\"+str(i)]=bn_backward(dout,cache[\"bn\"+str(i)])\n",
    "            dout,grads['W'+str(i)],grads['b'+str(i)]=affine_backward(dout,cache[\"affine\"+str(i)])\n",
    "        for i in range(self.num_layers):\n",
    "          grads['W'+str(i+1)]=grads['W'+str(i+1)]+self.reg*(self.params[\"W\"+str(i+1)])\n",
    "            \n",
    "          \n",
    "          \n",
    "        \n",
    "        \n",
    "        \n",
    "        \n",
    "        \n",
    "        ############################################################################\n",
    "        #                             END OF YOUR CODE                             #\n",
    "        ############################################################################\n",
    "\n",
    "        return loss, grads"
   ]
  },
  {
   "cell_type": "markdown",
   "metadata": {
    "colab_type": "text",
    "id": "0D40DA3916td"
   },
   "source": [
    "## Initial loss and gradient check"
   ]
  },
  {
   "cell_type": "markdown",
   "metadata": {
    "colab_type": "text",
    "id": "AoeDD5w016te"
   },
   "source": [
    "As a sanity check, run the following to check the initial loss and to gradient check the network both with and without regularization. Do the initial losses seem reasonable?\n",
    "\n",
    "For gradient checking, you should expect to see errors around 1e-7 or less."
   ]
  },
  {
   "cell_type": "code",
   "execution_count": 0,
   "metadata": {
    "colab": {
     "base_uri": "https://localhost:8080/",
     "height": 309
    },
    "colab_type": "code",
    "id": "wMw3TM7F16tf",
    "outputId": "9c9c8e4b-90f7-4799-f34d-bddc5a967fa3"
   },
   "outputs": [
    {
     "name": "stdout",
     "output_type": "stream",
     "text": [
      "Running check with reg =  0\n",
      "Initial loss:  2.3004790897684924\n",
      "W1 relative error: 1.48e-07\n",
      "W2 relative error: 2.21e-05\n",
      "W3 relative error: 3.53e-07\n",
      "b1 relative error: 5.38e-09\n",
      "b2 relative error: 2.09e-09\n",
      "b3 relative error: 5.80e-11\n",
      "Running check with reg =  3.14\n",
      "Initial loss:  7.052114776533016\n",
      "W1 relative error: 3.90e-09\n",
      "W2 relative error: 6.87e-08\n",
      "W3 relative error: 2.13e-08\n",
      "b1 relative error: 1.48e-08\n",
      "b2 relative error: 1.72e-09\n",
      "b3 relative error: 1.57e-10\n"
     ]
    }
   ],
   "source": [
    "np.random.seed(231)\n",
    "N, D, H1, H2, C = 2, 15, 20, 30, 10\n",
    "X = np.random.randn(N, D)\n",
    "y = np.random.randint(C, size=(N,))\n",
    "\n",
    "for reg in [0, 3.14]:\n",
    "  print('Running check with reg = ', reg)\n",
    "  model = FullyConnectedNet([H1, H2], input_dim=D, num_classes=C,\n",
    "                            reg=reg, weight_scale=5e-2, dtype=np.float64)\n",
    "\n",
    "  loss, grads = model.loss(X, y)\n",
    "  print('Initial loss: ', loss)\n",
    "  \n",
    "  # Most of the errors should be on the order of e-7 or smaller.   \n",
    "  # NOTE: It is fine however to see an error for W2 on the order of e-5\n",
    "  # for the check when reg = 0.0\n",
    "  for name in sorted(grads):\n",
    "    f = lambda _: model.loss(X, y)[0]\n",
    "    grad_num = eval_numerical_gradient(f, model.params[name], verbose=False, h=1e-5)\n",
    "    print('%s relative error: %.2e' % (name, rel_error(grad_num, grads[name])))"
   ]
  },
  {
   "cell_type": "markdown",
   "metadata": {
    "colab_type": "text",
    "id": "tr0VOCE-16th"
   },
   "source": [
    "As another sanity check, make sure you can overfit a small dataset of 50 images. First we will try a three-layer network with 100 units in each hidden layer. In the following cell, tweak the learning rate and initialization scale to overfit and achieve 100% training accuracy within 20 epochs."
   ]
  },
  {
   "cell_type": "code",
   "execution_count": 0,
   "metadata": {
    "colab": {
     "base_uri": "https://localhost:8080/",
     "height": 776
    },
    "colab_type": "code",
    "id": "YBkh8M_716ti",
    "outputId": "cc650219-0bd5-46a3-bb27-aefc293a5a7d"
   },
   "outputs": [
    {
     "name": "stdout",
     "output_type": "stream",
     "text": [
      "update_rule sgd\n",
      "(Iteration 1 / 40) loss: 257.884595\n",
      "(Epoch 0 / 20) train acc: 0.120000; val_acc: 0.111000\n",
      "(Epoch 1 / 20) train acc: 0.300000; val_acc: 0.099000\n",
      "(Epoch 2 / 20) train acc: 0.500000; val_acc: 0.132000\n",
      "(Epoch 3 / 20) train acc: 0.620000; val_acc: 0.133000\n",
      "(Epoch 4 / 20) train acc: 0.820000; val_acc: 0.148000\n",
      "(Epoch 5 / 20) train acc: 0.920000; val_acc: 0.137000\n",
      "(Iteration 11 / 40) loss: 4.517965\n",
      "(Epoch 6 / 20) train acc: 0.940000; val_acc: 0.147000\n",
      "(Epoch 7 / 20) train acc: 1.000000; val_acc: 0.145000\n",
      "(Epoch 8 / 20) train acc: 1.000000; val_acc: 0.145000\n",
      "(Epoch 9 / 20) train acc: 1.000000; val_acc: 0.145000\n",
      "(Epoch 10 / 20) train acc: 1.000000; val_acc: 0.145000\n",
      "(Iteration 21 / 40) loss: 0.000004\n",
      "(Epoch 11 / 20) train acc: 1.000000; val_acc: 0.145000\n",
      "(Epoch 12 / 20) train acc: 1.000000; val_acc: 0.145000\n",
      "(Epoch 13 / 20) train acc: 1.000000; val_acc: 0.145000\n",
      "(Epoch 14 / 20) train acc: 1.000000; val_acc: 0.145000\n",
      "(Epoch 15 / 20) train acc: 1.000000; val_acc: 0.145000\n",
      "(Iteration 31 / 40) loss: 0.000004\n",
      "(Epoch 16 / 20) train acc: 1.000000; val_acc: 0.145000\n",
      "(Epoch 17 / 20) train acc: 1.000000; val_acc: 0.145000\n",
      "(Epoch 18 / 20) train acc: 1.000000; val_acc: 0.145000\n",
      "(Epoch 19 / 20) train acc: 1.000000; val_acc: 0.145000\n",
      "(Epoch 20 / 20) train acc: 1.000000; val_acc: 0.145000\n"
     ]
    },
    {
     "data": {
      "image/png": "[encoded data removed]",
      "text/plain": [
       "<Figure size 432x288 with 1 Axes>"
      ]
     },
     "metadata": {
      "tags": []
     },
     "output_type": "display_data"
    }
   ],
   "source": [
    "# TODO: Use a three-layer Net to overfit 50 training examples by \n",
    "# tweaking just the learning rate and initialization scale.\n",
    "\n",
    "num_train = 50\n",
    "small_data = {\n",
    "  'X_train': data['X_train'][:num_train],\n",
    "  'y_train': data['y_train'][:num_train],\n",
    "  'X_val': data['X_val'],\n",
    "  'y_val': data['y_val'],\n",
    "}\n",
    "\n",
    "# weight_scale = 1e-2\n",
    "# learning_rate = 1e-4\n",
    "weight_scale = 1e-1\n",
    "learning_rate = 1e-3\n",
    "model = FullyConnectedNet([100, 100],\n",
    "              weight_scale=weight_scale, dtype=np.float64)\n",
    "solver = Solver(model, small_data,\n",
    "                print_every=10, num_epochs=20, batch_size=25,\n",
    "                update_rule='sgd',\n",
    "                optim_config={\n",
    "                  'learning_rate': learning_rate,\n",
    "                }\n",
    "         )\n",
    "solver.train()\n",
    "\n",
    "plt.plot(solver.loss_history, 'o')\n",
    "plt.title('Training loss history')\n",
    "plt.xlabel('Iteration')\n",
    "plt.ylabel('Training loss')\n",
    "plt.show()"
   ]
  },
  {
   "cell_type": "markdown",
   "metadata": {
    "colab_type": "text",
    "id": "Wgf48kpe16tk"
   },
   "source": [
    "Now try to use a five-layer network with 100 units on each layer to overfit 50 training examples. Again you will have to adjust the learning rate and weight initialization, but you should be able to achieve 100% training accuracy within 20 epochs."
   ]
  },
  {
   "cell_type": "code",
   "execution_count": 0,
   "metadata": {
    "colab": {
     "base_uri": "https://localhost:8080/",
     "height": 776
    },
    "colab_type": "code",
    "id": "-3_9xMrn16tl",
    "outputId": "b589a9dc-bf71-4e06-b82a-fedfa099b9f0"
   },
   "outputs": [
    {
     "name": "stdout",
     "output_type": "stream",
     "text": [
      "update_rule sgd\n",
      "(Iteration 1 / 40) loss: 103.507787\n",
      "(Epoch 0 / 20) train acc: 0.220000; val_acc: 0.126000\n",
      "(Epoch 1 / 20) train acc: 0.100000; val_acc: 0.100000\n",
      "(Epoch 2 / 20) train acc: 0.200000; val_acc: 0.087000\n",
      "(Epoch 3 / 20) train acc: 0.500000; val_acc: 0.119000\n",
      "(Epoch 4 / 20) train acc: 0.680000; val_acc: 0.123000\n",
      "(Epoch 5 / 20) train acc: 0.920000; val_acc: 0.133000\n",
      "(Iteration 11 / 40) loss: 0.452739\n",
      "(Epoch 6 / 20) train acc: 0.960000; val_acc: 0.145000\n",
      "(Epoch 7 / 20) train acc: 0.960000; val_acc: 0.145000\n",
      "(Epoch 8 / 20) train acc: 0.980000; val_acc: 0.130000\n",
      "(Epoch 9 / 20) train acc: 1.000000; val_acc: 0.130000\n",
      "(Epoch 10 / 20) train acc: 1.000000; val_acc: 0.128000\n",
      "(Iteration 21 / 40) loss: 0.002332\n",
      "(Epoch 11 / 20) train acc: 1.000000; val_acc: 0.128000\n",
      "(Epoch 12 / 20) train acc: 1.000000; val_acc: 0.127000\n",
      "(Epoch 13 / 20) train acc: 1.000000; val_acc: 0.127000\n",
      "(Epoch 14 / 20) train acc: 1.000000; val_acc: 0.127000\n",
      "(Epoch 15 / 20) train acc: 1.000000; val_acc: 0.127000\n",
      "(Iteration 31 / 40) loss: 0.001476\n",
      "(Epoch 16 / 20) train acc: 1.000000; val_acc: 0.127000\n",
      "(Epoch 17 / 20) train acc: 1.000000; val_acc: 0.127000\n",
      "(Epoch 18 / 20) train acc: 1.000000; val_acc: 0.127000\n",
      "(Epoch 19 / 20) train acc: 1.000000; val_acc: 0.127000\n",
      "(Epoch 20 / 20) train acc: 1.000000; val_acc: 0.127000\n"
     ]
    },
    {
     "data": {
      "image/png": "[encoded data removed]",
      "text/plain": [
       "<Figure size 432x288 with 1 Axes>"
      ]
     },
     "metadata": {
      "tags": []
     },
     "output_type": "display_data"
    }
   ],
   "source": [
    "# TODO: Use a five-layer Net to overfit 50 training examples by \n",
    "# tweaking just the learning rate and initialization scale.\n",
    "\n",
    "num_train = 50\n",
    "small_data = {\n",
    "  'X_train': data['X_train'][:num_train],\n",
    "  'y_train': data['y_train'][:num_train],\n",
    "  'X_val': data['X_val'],\n",
    "  'y_val': data['y_val'],\n",
    "}\n",
    "\n",
    "# learning_rate = 2e-3\n",
    "# weight_scale = 1e-5\n",
    "learning_rate = 2e-3\n",
    "weight_scale = 1e-1\n",
    "model = FullyConnectedNet([100, 100, 100, 100],\n",
    "                weight_scale=weight_scale, dtype=np.float64)\n",
    "solver = Solver(model, small_data,\n",
    "                print_every=10, num_epochs=20, batch_size=25,\n",
    "                update_rule='sgd',\n",
    "                optim_config={\n",
    "                  'learning_rate': learning_rate,\n",
    "                }\n",
    "         )\n",
    "solver.train()\n",
    "\n",
    "plt.plot(solver.loss_history, 'o')\n",
    "plt.title('Training loss history')\n",
    "plt.xlabel('Iteration')\n",
    "plt.ylabel('Training loss')\n",
    "plt.show()"
   ]
  },
  {
   "cell_type": "markdown",
   "metadata": {
    "colab_type": "text",
    "id": "jTMxRigW16to"
   },
   "source": [
    "## Inline Question 2: \n",
    "Did you notice anything about the comparative difficulty of training the three-layer net vs training the five layer net? In particular, based on your experience, which network seemed more sensitive to the initialization scale? Why do you think that is the case?"
   ]
  },
  {
   "cell_type": "markdown",
   "metadata": {
    "colab_type": "text",
    "id": "vBBrMe5w16tp"
   },
   "source": [
    "## Answer:\n",
    "Training the five layer net have more difficulty. Due to the backward propogation, deeper net will be more easily to diminish or boom because we will multiply the weights from the last to the begining. Thus, 5 layer net is goindg to be more sensitive to initilization scale.\n"
   ]
  },
  {
   "cell_type": "markdown",
   "metadata": {
    "colab_type": "text",
    "id": "fUS5QycC16tp"
   },
   "source": [
    "# Update rules\n",
    "So far we have used vanilla stochastic gradient descent (SGD) as our update rule. More sophisticated update rules can make it easier to train deep networks. We will implement a few of the most commonly used update rules and compare them to vanilla SGD."
   ]
  },
  {
   "cell_type": "markdown",
   "metadata": {
    "colab_type": "text",
    "id": "fnlQAdm_16tq"
   },
   "source": [
    "# SGD+Momentum\n",
    "Stochastic gradient descent with momentum is a widely used update rule that tends to make deep networks converge faster than vanilla stochastic gradient descent. See the Momentum Update section at http://cs231n.github.io/neural-networks-3/#sgd for more information.\n",
    "\n",
    "Implement the SGD+momentum update rule in the function `sgd_momentum` below and run the following to check your implementation. You should see errors less than e-8."
   ]
  },
  {
   "cell_type": "code",
   "execution_count": 0,
   "metadata": {
    "colab": {},
    "colab_type": "code",
    "id": "RJDkbeMjxlGU"
   },
   "outputs": [],
   "source": [
    "def sgd_momentum(w, dw, config=None):\n",
    "    \"\"\"\n",
    "    Performs stochastic gradient descent with momentum.\n",
    "\n",
    "    config format:\n",
    "    - learning_rate: Scalar learning rate.\n",
    "    - momentum: Scalar between 0 and 1 giving the momentum value.\n",
    "      Setting momentum = 0 reduces to sgd.\n",
    "    - velocity: A numpy array of the same shape as w and dw used to store a\n",
    "      moving average of the gradients.\n",
    "    \"\"\"\n",
    "    if config is None: config = {}\n",
    "    config.setdefault('learning_rate', 1e-2)\n",
    "    config.setdefault('momentum', 0.9)\n",
    "    v = config.get('velocity', np.zeros_like(w))\n",
    "\n",
    "    next_w = None\n",
    "    ###########################################################################\n",
    "    # TODO: Implement the momentum update formula. Store the updated value in #\n",
    "    # the next_w variable. You should also use and update the velocity v.     #\n",
    "    ###########################################################################\n",
    "    rho=config['momentum']\n",
    "    lr=config['learning_rate']\n",
    "    \n",
    "    #print(rho,\"rho\",lr,'lr',v,'v')\n",
    "    v=v*rho-lr*dw\n",
    "    next_w=w+v\n",
    "    \n",
    "    ###########################################################################\n",
    "    #                             END OF YOUR CODE                            #\n",
    "    ###########################################################################\n",
    "    config['velocity'] = v\n",
    "\n",
    "    return next_w, config"
   ]
  },
  {
   "cell_type": "code",
   "execution_count": 0,
   "metadata": {
    "colab": {
     "base_uri": "https://localhost:8080/",
     "height": 54
    },
    "colab_type": "code",
    "id": "L0dYElzs16tq",
    "outputId": "e8dc1ad2-1020-4431-c7e9-ff4b4a452afb"
   },
   "outputs": [
    {
     "name": "stdout",
     "output_type": "stream",
     "text": [
      "next_w error:  8.882347033505819e-09\n",
      "velocity error:  4.269287743278663e-09\n"
     ]
    }
   ],
   "source": [
    "N, D = 4, 5\n",
    "w = np.linspace(-0.4, 0.6, num=N*D).reshape(N, D)\n",
    "dw = np.linspace(-0.6, 0.4, num=N*D).reshape(N, D)\n",
    "v = np.linspace(0.6, 0.9, num=N*D).reshape(N, D)\n",
    "\n",
    "config = {'learning_rate': 1e-3, 'velocity': v}\n",
    "next_w, _ = sgd_momentum(w, dw, config=config)\n",
    "\n",
    "expected_next_w = np.asarray([\n",
    "  [ 0.1406,      0.20738947,  0.27417895,  0.34096842,  0.40775789],\n",
    "  [ 0.47454737,  0.54133684,  0.60812632,  0.67491579,  0.74170526],\n",
    "  [ 0.80849474,  0.87528421,  0.94207368,  1.00886316,  1.07565263],\n",
    "  [ 1.14244211,  1.20923158,  1.27602105,  1.34281053,  1.4096    ]])\n",
    "expected_velocity = np.asarray([\n",
    "  [ 0.5406,      0.55475789,  0.56891579, 0.58307368,  0.59723158],\n",
    "  [ 0.61138947,  0.62554737,  0.63970526,  0.65386316,  0.66802105],\n",
    "  [ 0.68217895,  0.69633684,  0.71049474,  0.72465263,  0.73881053],\n",
    "  [ 0.75296842,  0.76712632,  0.78128421,  0.79544211,  0.8096    ]])\n",
    "\n",
    "# Should see relative errors around e-8 or less\n",
    "print('next_w error: ', rel_error(next_w, expected_next_w))\n",
    "print('velocity error: ', rel_error(expected_velocity, config['velocity']))"
   ]
  },
  {
   "cell_type": "markdown",
   "metadata": {
    "colab_type": "text",
    "id": "ITC3UtDl16tt"
   },
   "source": [
    "Once you have done so, run the following to train a six-layer network with both SGD and SGD+momentum. You should see the SGD+momentum update rule converge faster."
   ]
  },
  {
   "cell_type": "code",
   "execution_count": 0,
   "metadata": {
    "colab": {
     "base_uri": "https://localhost:8080/",
     "height": 1000
    },
    "colab_type": "code",
    "id": "heJ5K4kF16tu",
    "outputId": "b145e1bb-a5f2-414c-b497-d379418de5cb"
   },
   "outputs": [
    {
     "name": "stdout",
     "output_type": "stream",
     "text": [
      "running with  sgd\n",
      "update_rule sgd\n",
      "(Iteration 1 / 200) loss: 2.490217\n",
      "(Epoch 0 / 5) train acc: 0.123000; val_acc: 0.122000\n",
      "(Iteration 11 / 200) loss: 2.235753\n",
      "(Iteration 21 / 200) loss: 2.165549\n",
      "(Iteration 31 / 200) loss: 1.928600\n",
      "(Epoch 1 / 5) train acc: 0.282000; val_acc: 0.276000\n",
      "(Iteration 41 / 200) loss: 2.058635\n",
      "(Iteration 51 / 200) loss: 1.846662\n",
      "(Iteration 61 / 200) loss: 2.011026\n",
      "(Iteration 71 / 200) loss: 1.752593\n",
      "(Epoch 2 / 5) train acc: 0.334000; val_acc: 0.296000\n",
      "(Iteration 81 / 200) loss: 1.883017\n",
      "(Iteration 91 / 200) loss: 1.848215\n",
      "(Iteration 101 / 200) loss: 1.818745\n",
      "(Iteration 111 / 200) loss: 1.720396\n",
      "(Epoch 3 / 5) train acc: 0.402000; val_acc: 0.303000\n",
      "(Iteration 121 / 200) loss: 1.637133\n",
      "(Iteration 131 / 200) loss: 1.833528\n",
      "(Iteration 141 / 200) loss: 1.763622\n",
      "(Iteration 151 / 200) loss: 1.683998\n",
      "(Epoch 4 / 5) train acc: 0.429000; val_acc: 0.313000\n",
      "(Iteration 161 / 200) loss: 1.621910\n",
      "(Iteration 171 / 200) loss: 1.628323\n",
      "(Iteration 181 / 200) loss: 1.706870\n",
      "(Iteration 191 / 200) loss: 1.600452\n",
      "(Epoch 5 / 5) train acc: 0.387000; val_acc: 0.320000\n",
      "\n",
      "running with  sgd_momentum\n",
      "update_rule sgd_momentum\n",
      "(Iteration 1 / 200) loss: 2.445469\n",
      "(Epoch 0 / 5) train acc: 0.145000; val_acc: 0.136000\n",
      "(Iteration 11 / 200) loss: 2.099852\n",
      "(Iteration 21 / 200) loss: 1.892999\n",
      "(Iteration 31 / 200) loss: 1.950054\n",
      "(Epoch 1 / 5) train acc: 0.303000; val_acc: 0.274000\n",
      "(Iteration 41 / 200) loss: 1.667761\n",
      "(Iteration 51 / 200) loss: 1.760307\n",
      "(Iteration 61 / 200) loss: 1.755754\n",
      "(Iteration 71 / 200) loss: 1.639893\n",
      "(Epoch 2 / 5) train acc: 0.426000; val_acc: 0.319000\n",
      "(Iteration 81 / 200) loss: 1.751210\n",
      "(Iteration 91 / 200) loss: 1.533996\n",
      "(Iteration 101 / 200) loss: 1.689633\n",
      "(Iteration 111 / 200) loss: 1.709114\n",
      "(Epoch 3 / 5) train acc: 0.491000; val_acc: 0.347000\n",
      "(Iteration 121 / 200) loss: 1.648675\n",
      "(Iteration 131 / 200) loss: 1.532157\n",
      "(Iteration 141 / 200) loss: 1.644497\n",
      "(Iteration 151 / 200) loss: 1.446400\n",
      "(Epoch 4 / 5) train acc: 0.535000; val_acc: 0.362000\n",
      "(Iteration 161 / 200) loss: 1.493683\n",
      "(Iteration 171 / 200) loss: 1.510973\n",
      "(Iteration 181 / 200) loss: 1.540158\n",
      "(Iteration 191 / 200) loss: 1.227618\n",
      "(Epoch 5 / 5) train acc: 0.569000; val_acc: 0.362000\n",
      "\n"
     ]
    },
    {
     "name": "stderr",
     "output_type": "stream",
     "text": [
      "/usr/local/lib/python3.6/dist-packages/matplotlib/figure.py:98: MatplotlibDeprecationWarning: \n",
      "Adding an axes using the same arguments as a previous axes currently reuses the earlier instance.  In a future version, a new instance will always be created and returned.  Meanwhile, this warning can be suppressed, and the future behavior ensured, by passing a unique label to each axes instance.\n",
      "  \"Adding an axes using the same arguments as a previous axes \"\n"
     ]
    },
    {
     "data": {
      "image/png": "[encoded data removed]",
      "text/plain": [
       "<Figure size 1080x1080 with 3 Axes>"
      ]
     },
     "metadata": {
      "tags": []
     },
     "output_type": "display_data"
    }
   ],
   "source": [
    "num_train = 4000\n",
    "small_data = {\n",
    "  'X_train': data['X_train'][:num_train],\n",
    "  'y_train': data['y_train'][:num_train],\n",
    "  'X_val': data['X_val'],\n",
    "  'y_val': data['y_val'],\n",
    "}\n",
    "\n",
    "solvers = {}\n",
    "\n",
    "for update_rule in ['sgd', 'sgd_momentum']:\n",
    "  print('running with ', update_rule)\n",
    "  model = FullyConnectedNet([100, 100, 100, 100, 100], weight_scale=5e-2)\n",
    "\n",
    "  solver = Solver(model, small_data,\n",
    "                  num_epochs=5, batch_size=100,\n",
    "                  update_rule=update_rule,\n",
    "                  optim_config={\n",
    "                    'learning_rate': 1e-2,\n",
    "                  },\n",
    "                  verbose=True)\n",
    "  solvers[update_rule] = solver\n",
    "  solver.train()\n",
    "  print()\n",
    "\n",
    "plt.subplot(3, 1, 1)\n",
    "plt.title('Training loss')\n",
    "plt.xlabel('Iteration')\n",
    "\n",
    "plt.subplot(3, 1, 2)\n",
    "plt.title('Training accuracy')\n",
    "plt.xlabel('Epoch')\n",
    "\n",
    "plt.subplot(3, 1, 3)\n",
    "plt.title('Validation accuracy')\n",
    "plt.xlabel('Epoch')\n",
    "\n",
    "for update_rule, solver in list(solvers.items()):\n",
    "  plt.subplot(3, 1, 1)\n",
    "  plt.plot(solver.loss_history, 'o', label=update_rule)\n",
    "  \n",
    "  plt.subplot(3, 1, 2)\n",
    "  plt.plot(solver.train_acc_history, '-o', label=update_rule)\n",
    "\n",
    "  plt.subplot(3, 1, 3)\n",
    "  plt.plot(solver.val_acc_history, '-o', label=update_rule)\n",
    "  \n",
    "for i in [1, 2, 3]:\n",
    "  plt.subplot(3, 1, i)\n",
    "  plt.legend(loc='upper center', ncol=4)\n",
    "plt.gcf().set_size_inches(15, 15)\n",
    "plt.show()"
   ]
  },
  {
   "cell_type": "markdown",
   "metadata": {
    "colab_type": "text",
    "id": "zJyd8bb_16tw"
   },
   "source": [
    "# RMSProp and Adam\n",
    "RMSProp [1] and Adam [2] are update rules that set per-parameter learning rates by using a running average of the second moments of gradients.\n",
    "\n",
    "Implement the RMSProp update rule in the `rmsprop` function and implement the Adam update rule in the `adam` function below, and check your implementations using the tests below.\n",
    "\n",
    "**NOTE:** Please implement the _complete_ Adam update rule (with the bias correction mechanism), not the first simplified version mentioned in the course notes. \n",
    "\n",
    "[1] Tijmen Tieleman and Geoffrey Hinton. \"Lecture 6.5-rmsprop: Divide the gradient by a running average of its recent magnitude.\" COURSERA: Neural Networks for Machine Learning 4 (2012).\n",
    "\n",
    "[2] Diederik Kingma and Jimmy Ba, \"Adam: A Method for Stochastic Optimization\", ICLR 2015."
   ]
  },
  {
   "cell_type": "code",
   "execution_count": 0,
   "metadata": {
    "colab": {},
    "colab_type": "code",
    "id": "pPeA8Yaexst5"
   },
   "outputs": [],
   "source": [
    "def rmsprop(w, dw, config=None):\n",
    "    \"\"\"\n",
    "    Uses the RMSProp update rule, which uses a moving average of squared\n",
    "    gradient values to set adaptive per-parameter learning rates.\n",
    "\n",
    "    config format:\n",
    "    - learning_rate: Scalar learning rate.\n",
    "    - decay_rate: Scalar between 0 and 1 giving the decay rate for the squared\n",
    "      gradient cache.\n",
    "    - epsilon: Small scalar used for smoothing to avoid dividing by zero.\n",
    "    - cache: Moving average of second moments of gradients.\n",
    "    \"\"\"\n",
    "    if config is None: config = {}\n",
    "    config.setdefault('learning_rate', 1e-2)\n",
    "    config.setdefault('decay_rate', 0.99)\n",
    "    config.setdefault('epsilon', 1e-8)\n",
    "    config.setdefault('cache', np.zeros_like(w))\n",
    "\n",
    "    next_w = None\n",
    "    ###########################################################################\n",
    "    # TODO: Implement the RMSprop update formula, storing the next value of w #\n",
    "    # in the next_w variable. Don't forget to update cache value stored in    #\n",
    "    # config['cache'].                                                        #\n",
    "    ###########################################################################\n",
    "    cache=config['cache']\n",
    "    decay_rate=config['decay_rate']    \n",
    "    lr=config['learning_rate']\n",
    "    epsilon=config['epsilon']\n",
    "    cache=decay_rate*cache+(1-decay_rate)*dw**2\n",
    "    next_w=w-lr*dw/(np.sqrt(cache)+epsilon)\n",
    "    config['cache']=cache\n",
    "    \n",
    "    \n",
    "    \n",
    "    \n",
    "    ###########################################################################\n",
    "    #                             END OF YOUR CODE                            #\n",
    "    ###########################################################################\n",
    "\n",
    "    return next_w, config\n",
    "\n",
    "\n",
    "def adam(w, dw, config=None):\n",
    "    \"\"\"\n",
    "    Uses the Adam update rule, which incorporates moving averages of both the\n",
    "    gradient and its square and a bias correction term.\n",
    "\n",
    "    config format:\n",
    "    - learning_rate: Scalar learning rate.\n",
    "    - beta1: Decay rate for moving average of first moment of gradient.\n",
    "    - beta2: Decay rate for moving average of second moment of gradient.\n",
    "    - epsilon: Small scalar used for smoothing to avoid dividing by zero.\n",
    "    - m: Moving average of gradient.\n",
    "    - v: Moving average of squared gradient.\n",
    "    - t: Iteration number.\n",
    "    \"\"\"\n",
    "    if config is None: config = {}\n",
    "    config.setdefault('learning_rate', 1e-3)\n",
    "    config.setdefault('beta1', 0.9)\n",
    "    config.setdefault('beta2', 0.999)\n",
    "    config.setdefault('epsilon', 1e-8)\n",
    "    config.setdefault('m', np.zeros_like(w))\n",
    "    config.setdefault('v', np.zeros_like(w))\n",
    "    config.setdefault('t', 0)\n",
    "\n",
    "    next_w = None\n",
    "    ###########################################################################\n",
    "    # TODO: Implement the Adam update formula, storing the next value of w in #\n",
    "    # the next_w variable. Don't forget to update the m, v, and t variables   #\n",
    "    # stored in config.                                                       #\n",
    "    #                                                                         #\n",
    "    # NOTE: In order to match the reference output, please modify t _before_  #\n",
    "    # using it in any calculations.                                           #\n",
    "    ###########################################################################\n",
    "    m=config['m']\n",
    "    v=config['v']\n",
    "    t=config['t']+1\n",
    "    beta1=config['beta1']\n",
    "    beta2=config['beta2']\n",
    "    lr=config['learning_rate']\n",
    "    epsilon=config['epsilon']\n",
    "    m=beta1*m + (1-beta1)*dw\n",
    "    mt=m/(1-beta1**t)\n",
    "    v=beta2*v + (1-beta2)*dw**2\n",
    "    vt=v/(1-beta2**t)\n",
    "    next_w=w-lr*mt/(np.sqrt(vt)+epsilon)\n",
    "    config['m']=m\n",
    "    config['v']=v\n",
    "    config['t']=t\n",
    "    \n",
    "    \n",
    "    \n",
    "    ###########################################################################\n",
    "    #                             END OF YOUR CODE                            #\n",
    "    ###########################################################################\n",
    "\n",
    "    return next_w, config"
   ]
  },
  {
   "cell_type": "markdown",
   "metadata": {
    "colab_type": "text",
    "id": "kFs5xmCWpXSU"
   },
   "source": [
    "Test your RMSProp implementation."
   ]
  },
  {
   "cell_type": "code",
   "execution_count": 0,
   "metadata": {
    "colab": {
     "base_uri": "https://localhost:8080/",
     "height": 54
    },
    "colab_type": "code",
    "id": "YRAHXafu16tx",
    "outputId": "183960f6-f5ff-4e84-970f-eed989bebfab"
   },
   "outputs": [
    {
     "name": "stdout",
     "output_type": "stream",
     "text": [
      "next_w error:  9.524687511038133e-08\n",
      "cache error:  2.6477955807156126e-09\n"
     ]
    }
   ],
   "source": [
    "N, D = 4, 5\n",
    "w = np.linspace(-0.4, 0.6, num=N*D).reshape(N, D)\n",
    "dw = np.linspace(-0.6, 0.4, num=N*D).reshape(N, D)\n",
    "cache = np.linspace(0.6, 0.9, num=N*D).reshape(N, D)\n",
    "\n",
    "config = {'learning_rate': 1e-2, 'cache': cache}\n",
    "next_w, _ = rmsprop(w, dw, config=config)\n",
    "\n",
    "expected_next_w = np.asarray([\n",
    "  [-0.39223849, -0.34037513, -0.28849239, -0.23659121, -0.18467247],\n",
    "  [-0.132737,   -0.08078555, -0.02881884,  0.02316247,  0.07515774],\n",
    "  [ 0.12716641,  0.17918792,  0.23122175,  0.28326742,  0.33532447],\n",
    "  [ 0.38739248,  0.43947102,  0.49155973,  0.54365823,  0.59576619]])\n",
    "expected_cache = np.asarray([\n",
    "  [ 0.5976,      0.6126277,   0.6277108,   0.64284931,  0.65804321],\n",
    "  [ 0.67329252,  0.68859723,  0.70395734,  0.71937285,  0.73484377],\n",
    "  [ 0.75037008,  0.7659518,   0.78158892,  0.79728144,  0.81302936],\n",
    "  [ 0.82883269,  0.84469141,  0.86060554,  0.87657507,  0.8926    ]])\n",
    "\n",
    "# You should see relative errors around e-7 or less\n",
    "print('next_w error: ', rel_error(expected_next_w, next_w))\n",
    "print('cache error: ', rel_error(expected_cache, config['cache']))"
   ]
  },
  {
   "cell_type": "markdown",
   "metadata": {
    "colab_type": "text",
    "id": "Gf_U16EVpbhq"
   },
   "source": [
    "Test your Adam implementation."
   ]
  },
  {
   "cell_type": "code",
   "execution_count": 0,
   "metadata": {
    "colab": {
     "base_uri": "https://localhost:8080/",
     "height": 72
    },
    "colab_type": "code",
    "id": "VVK4v9Vy16ty",
    "outputId": "68f6a2e4-849d-43bc-bf0e-e622ce6d46db"
   },
   "outputs": [
    {
     "name": "stdout",
     "output_type": "stream",
     "text": [
      "next_w error:  1.1395691798535431e-07\n",
      "v error:  4.208314038113071e-09\n",
      "m error:  4.214963193114416e-09\n"
     ]
    }
   ],
   "source": [
    "N, D = 4, 5\n",
    "w = np.linspace(-0.4, 0.6, num=N*D).reshape(N, D)\n",
    "dw = np.linspace(-0.6, 0.4, num=N*D).reshape(N, D)\n",
    "m = np.linspace(0.6, 0.9, num=N*D).reshape(N, D)\n",
    "v = np.linspace(0.7, 0.5, num=N*D).reshape(N, D)\n",
    "\n",
    "config = {'learning_rate': 1e-2, 'm': m, 'v': v, 't': 5}\n",
    "next_w, _ = adam(w, dw, config=config)\n",
    "\n",
    "expected_next_w = np.asarray([\n",
    "  [-0.40094747, -0.34836187, -0.29577703, -0.24319299, -0.19060977],\n",
    "  [-0.1380274,  -0.08544591, -0.03286534,  0.01971428,  0.0722929],\n",
    "  [ 0.1248705,   0.17744702,  0.23002243,  0.28259667,  0.33516969],\n",
    "  [ 0.38774145,  0.44031188,  0.49288093,  0.54544852,  0.59801459]])\n",
    "expected_v = np.asarray([\n",
    "  [ 0.69966,     0.68908382,  0.67851319,  0.66794809,  0.65738853,],\n",
    "  [ 0.64683452,  0.63628604,  0.6257431,   0.61520571,  0.60467385,],\n",
    "  [ 0.59414753,  0.58362676,  0.57311152,  0.56260183,  0.55209767,],\n",
    "  [ 0.54159906,  0.53110598,  0.52061845,  0.51013645,  0.49966,   ]])\n",
    "expected_m = np.asarray([\n",
    "  [ 0.48,        0.49947368,  0.51894737,  0.53842105,  0.55789474],\n",
    "  [ 0.57736842,  0.59684211,  0.61631579,  0.63578947,  0.65526316],\n",
    "  [ 0.67473684,  0.69421053,  0.71368421,  0.73315789,  0.75263158],\n",
    "  [ 0.77210526,  0.79157895,  0.81105263,  0.83052632,  0.85      ]])\n",
    "\n",
    "# You should see relative errors around e-7 or less\n",
    "print('next_w error: ', rel_error(expected_next_w, next_w))\n",
    "print('v error: ', rel_error(expected_v, config['v']))\n",
    "print('m error: ', rel_error(expected_m, config['m']))"
   ]
  },
  {
   "cell_type": "markdown",
   "metadata": {
    "colab_type": "text",
    "id": "uG-Il8lU16t0"
   },
   "source": [
    "Once you have debugged your RMSProp and Adam implementations, run the following to train a pair of deep networks using these new update rules:"
   ]
  },
  {
   "cell_type": "code",
   "execution_count": 0,
   "metadata": {
    "colab": {
     "base_uri": "https://localhost:8080/",
     "height": 1000
    },
    "colab_type": "code",
    "id": "9HBZkVUh16t1",
    "outputId": "eff853d9-fbc5-4d84-a9fb-4573c31365ee"
   },
   "outputs": [
    {
     "name": "stdout",
     "output_type": "stream",
     "text": [
      "running with  adam\n",
      "update_rule adam\n",
      "(Iteration 1 / 200) loss: 2.616505\n",
      "(Epoch 0 / 5) train acc: 0.133000; val_acc: 0.115000\n",
      "(Iteration 11 / 200) loss: 2.201624\n",
      "(Iteration 21 / 200) loss: 1.941651\n",
      "(Iteration 31 / 200) loss: 1.859203\n",
      "(Epoch 1 / 5) train acc: 0.370000; val_acc: 0.322000\n",
      "(Iteration 41 / 200) loss: 1.799556\n",
      "(Iteration 51 / 200) loss: 1.602896\n",
      "(Iteration 61 / 200) loss: 1.712483\n",
      "(Iteration 71 / 200) loss: 1.670800\n",
      "(Epoch 2 / 5) train acc: 0.469000; val_acc: 0.337000\n",
      "(Iteration 81 / 200) loss: 1.437488\n",
      "(Iteration 91 / 200) loss: 1.578621\n",
      "(Iteration 101 / 200) loss: 1.495708\n",
      "(Iteration 111 / 200) loss: 1.333432\n",
      "(Epoch 3 / 5) train acc: 0.514000; val_acc: 0.361000\n",
      "(Iteration 121 / 200) loss: 1.543388\n",
      "(Iteration 131 / 200) loss: 1.414085\n",
      "(Iteration 141 / 200) loss: 1.512642\n",
      "(Iteration 151 / 200) loss: 1.202190\n",
      "(Epoch 4 / 5) train acc: 0.543000; val_acc: 0.359000\n",
      "(Iteration 161 / 200) loss: 1.311076\n",
      "(Iteration 171 / 200) loss: 1.373214\n",
      "(Iteration 181 / 200) loss: 1.209776\n",
      "(Iteration 191 / 200) loss: 1.338102\n",
      "(Epoch 5 / 5) train acc: 0.593000; val_acc: 0.357000\n",
      "\n",
      "running with  rmsprop\n",
      "update_rule rmsprop\n",
      "(Iteration 1 / 200) loss: 2.442840\n",
      "(Epoch 0 / 5) train acc: 0.178000; val_acc: 0.161000\n",
      "(Iteration 11 / 200) loss: 2.070223\n",
      "(Iteration 21 / 200) loss: 2.002730\n",
      "(Iteration 31 / 200) loss: 1.866300\n",
      "(Epoch 1 / 5) train acc: 0.346000; val_acc: 0.290000\n",
      "(Iteration 41 / 200) loss: 1.720760\n",
      "(Iteration 51 / 200) loss: 1.769536\n",
      "(Iteration 61 / 200) loss: 1.859560\n",
      "(Iteration 71 / 200) loss: 1.832855\n",
      "(Epoch 2 / 5) train acc: 0.425000; val_acc: 0.311000\n",
      "(Iteration 81 / 200) loss: 1.554222\n",
      "(Iteration 91 / 200) loss: 1.656957\n",
      "(Iteration 101 / 200) loss: 1.446030\n",
      "(Iteration 111 / 200) loss: 1.679385\n",
      "(Epoch 3 / 5) train acc: 0.433000; val_acc: 0.335000\n",
      "(Iteration 121 / 200) loss: 1.622437\n",
      "(Iteration 131 / 200) loss: 1.498557\n",
      "(Iteration 141 / 200) loss: 1.570670\n",
      "(Iteration 151 / 200) loss: 1.345856\n",
      "(Epoch 4 / 5) train acc: 0.508000; val_acc: 0.352000\n",
      "(Iteration 161 / 200) loss: 1.290856\n",
      "(Iteration 171 / 200) loss: 1.518967\n",
      "(Iteration 181 / 200) loss: 1.416328\n",
      "(Iteration 191 / 200) loss: 1.405252\n",
      "(Epoch 5 / 5) train acc: 0.525000; val_acc: 0.363000\n",
      "\n"
     ]
    },
    {
     "name": "stderr",
     "output_type": "stream",
     "text": [
      "/usr/local/lib/python3.6/dist-packages/matplotlib/figure.py:98: MatplotlibDeprecationWarning: \n",
      "Adding an axes using the same arguments as a previous axes currently reuses the earlier instance.  In a future version, a new instance will always be created and returned.  Meanwhile, this warning can be suppressed, and the future behavior ensured, by passing a unique label to each axes instance.\n",
      "  \"Adding an axes using the same arguments as a previous axes \"\n"
     ]
    },
    {
     "data": {
      "image/png": "[encoded data removed]",
      "text/plain": [
       "<Figure size 1080x1080 with 3 Axes>"
      ]
     },
     "metadata": {
      "tags": []
     },
     "output_type": "display_data"
    }
   ],
   "source": [
    "learning_rates = {'rmsprop': 1e-4, 'adam': 1e-3}\n",
    "for update_rule in ['adam', 'rmsprop']:\n",
    "  print('running with ', update_rule)\n",
    "  model = FullyConnectedNet([100, 100, 100, 100, 100], weight_scale=5e-2)\n",
    "\n",
    "  solver = Solver(model, small_data,\n",
    "                  num_epochs=5, batch_size=100,\n",
    "                  update_rule=update_rule,\n",
    "                  optim_config={\n",
    "                    'learning_rate': learning_rates[update_rule]\n",
    "                  },\n",
    "                  verbose=True)\n",
    "  solvers[update_rule] = solver\n",
    "  solver.train()\n",
    "  print()\n",
    "\n",
    "plt.subplot(3, 1, 1)\n",
    "plt.title('Training loss')\n",
    "plt.xlabel('Iteration')\n",
    "\n",
    "plt.subplot(3, 1, 2)\n",
    "plt.title('Training accuracy')\n",
    "plt.xlabel('Epoch')\n",
    "\n",
    "plt.subplot(3, 1, 3)\n",
    "plt.title('Validation accuracy')\n",
    "plt.xlabel('Epoch')\n",
    "\n",
    "for update_rule, solver in list(solvers.items()):\n",
    "  plt.subplot(3, 1, 1)\n",
    "  plt.plot(solver.loss_history, 'o', label=update_rule)\n",
    "  \n",
    "  plt.subplot(3, 1, 2)\n",
    "  plt.plot(solver.train_acc_history, '-o', label=update_rule)\n",
    "\n",
    "  plt.subplot(3, 1, 3)\n",
    "  plt.plot(solver.val_acc_history, '-o', label=update_rule)\n",
    "  \n",
    "for i in [1, 2, 3]:\n",
    "  plt.subplot(3, 1, i)\n",
    "  plt.legend(loc='upper center', ncol=4)\n",
    "plt.gcf().set_size_inches(15, 15)\n",
    "plt.show()"
   ]
  },
  {
   "cell_type": "markdown",
   "metadata": {
    "colab_type": "text",
    "id": "ovo8_sVn16t3"
   },
   "source": [
    "## Inline Question 3:\n",
    "\n",
    "AdaGrad, like Adam, is a per-parameter optimization method that uses the following update rule:\n",
    "\n",
    "```\n",
    "cache += dw**2\n",
    "w += - learning_rate * dw / (np.sqrt(cache) + eps)\n",
    "```\n",
    "\n",
    "John notices that when he was training a network with AdaGrad that the updates became very small, and that his network was learning slowly. Using your knowledge of the AdaGrad update rule, why do you think the updates would become very small? Would Adam have the same issue?\n"
   ]
  },
  {
   "cell_type": "markdown",
   "metadata": {
    "colab_type": "text",
    "id": "qVZwA8Gr16t4"
   },
   "source": [
    "## Answer: \n",
    "Along with the learning process, the 'cache' will increase step by step, which will make the actual learning rate to small step by step. Thus updates becomes very small. Adam doesn't have the same issue, because it has a decay parameter to decrease former accumulated value."
   ]
  },
  {
   "cell_type": "markdown",
   "metadata": {
    "colab_type": "text",
    "id": "p6VLB27xbkmM"
   },
   "source": [
    "# Batch Normalization\n",
    "One way to make deep networks easier to train is to use more sophisticated optimization procedures such as SGD+momentum, RMSProp, or Adam. Another strategy is to change the architecture of the network to make it easier to train. \n",
    "One idea along these lines is batch normalization which was proposed by [3] in 2015.\n",
    "\n",
    "The idea is relatively straightforward. Machine learning methods tend to work better when their input data consists of uncorrelated features with zero mean and unit variance. When training a neural network, we can preprocess the data before feeding it to the network to explicitly decorrelate its features; this will ensure that the first layer of the network sees data that follows a nice distribution. However, even if we preprocess the input data, the activations at deeper layers of the network will likely no longer be decorrelated and will no longer have zero mean or unit variance since they are output from earlier layers in the network. Even worse, during the training process the distribution of features at each layer of the network will shift as the weights of each layer are updated.\n",
    "\n",
    "The authors of [3] hypothesize that the shifting distribution of features inside deep neural networks may make training deep networks more difficult. To overcome this problem, [3] proposes to insert batch normalization layers into the network. At training time, a batch normalization layer uses a minibatch of data to estimate the mean and standard deviation of each feature. These estimated means and standard deviations are then used to center and normalize the features of the minibatch. A running average of these means and standard deviations is kept during training, and at test time these running averages are used to center and normalize features.\n",
    "\n",
    "It is possible that this normalization strategy could reduce the representational power of the network, since it may sometimes be optimal for certain layers to have features that are not zero-mean or unit variance. To this end, the batch normalization layer includes learnable shift and scale parameters for each feature dimension.\n",
    "\n",
    "[3] [Sergey Ioffe and Christian Szegedy, \"Batch Normalization: Accelerating Deep Network Training by Reducing\n",
    "Internal Covariate Shift\", ICML 2015.](https://arxiv.org/abs/1502.03167)"
   ]
  },
  {
   "cell_type": "markdown",
   "metadata": {
    "colab_type": "text",
    "id": "5pFp4sZx2v__"
   },
   "source": [
    "## Batch normalization: forward\n",
    "Implement the batch normalization forward pass in the function `batchnorm_forward` below. Once you have done so, run the following to test your implementation.\n",
    "\n",
    "Referencing the paper linked to above would be helpful!"
   ]
  },
  {
   "cell_type": "code",
   "execution_count": 0,
   "metadata": {
    "colab": {},
    "colab_type": "code",
    "id": "acJZ1kCQcF-H"
   },
   "outputs": [],
   "source": [
    "def batchnorm_forward(x, gamma, beta, bn_param):\n",
    "    \"\"\"\n",
    "    Forward pass for batch normalization.\n",
    "\n",
    "    During training the sample mean and (uncorrected) sample variance are\n",
    "    computed from minibatch statistics and used to normalize the incoming data.\n",
    "    During training we also keep an exponentially decaying running mean of the\n",
    "    mean and variance of each feature, and these averages are used to normalize\n",
    "    data at test-time.\n",
    "\n",
    "    At each timestep we update the running averages for mean and variance using\n",
    "    an exponential decay based on the momentum parameter:\n",
    "\n",
    "    running_mean = momentum * running_mean + (1 - momentum) * sample_mean\n",
    "    running_var = momentum * running_var + (1 - momentum) * sample_var\n",
    "\n",
    "    Note that the batch normalization paper suggests a different test-time\n",
    "    behavior: they compute sample mean and variance for each feature using a\n",
    "    large number of training images rather than using a running average. For\n",
    "    this implementation we have chosen to use running averages instead since\n",
    "    they do not require an additional estimation step; the torch7\n",
    "    implementation of batch normalization also uses running averages.\n",
    "\n",
    "    Input:\n",
    "    - x: Data of shape (N, D)\n",
    "    - gamma: Scale parameter of shape (D,)\n",
    "    - beta: Shift paremeter of shape (D,)\n",
    "    - bn_param: Dictionary with the following keys:\n",
    "      - mode: 'train' or 'test'; required\n",
    "      - eps: Constant for numeric stability\n",
    "      - momentum: Constant for running mean / variance.\n",
    "      - running_mean: Array of shape (D,) giving running mean of features\n",
    "      - running_var Array of shape (D,) giving running variance of features\n",
    "\n",
    "    Returns a tuple of:\n",
    "    - out: of shape (N, D)\n",
    "    - cache: A tuple of values needed in the backward pass\n",
    "    \"\"\"\n",
    "    mode = bn_param['mode']\n",
    "    eps = bn_param.get('eps', 1e-5)\n",
    "    momentum = bn_param.get('momentum', 0.9)\n",
    "\n",
    "    N, D = x.shape\n",
    "    running_mean = bn_param.get('running_mean', np.zeros(D, dtype=x.dtype))\n",
    "    running_var = bn_param.get('running_var', np.zeros(D, dtype=x.dtype))\n",
    "\n",
    "    out, cache = None, None\n",
    "    if mode == 'train':\n",
    "        #######################################################################\n",
    "        # TODO: Implement the training-time forward pass for batch norm.      #\n",
    "        # Use minibatch statistics to compute the mean and variance, use      #\n",
    "        # these statistics to normalize the incoming data, and scale and      #\n",
    "        # shift the normalized data using gamma and beta.                     #\n",
    "        #                                                                     #\n",
    "        # You should store the output in the variable out. Any intermediates  #\n",
    "        # that you need for the backward pass should be stored in the cache   #\n",
    "        # variable.                                                           #\n",
    "        #                                                                     #\n",
    "        # You should also use your computed sample mean and variance together #\n",
    "        # with the momentum variable to update the running mean and running   #\n",
    "        # variance, storing your result in the running_mean and running_var   #\n",
    "        # variables.                                                          #\n",
    "        #                                                                     #\n",
    "        # Note that though you should be keeping track of the running         #\n",
    "        # variance, you should normalize the data based on the standard       #\n",
    "        # deviation (square root of variance) instead!                        # \n",
    "        # Referencing the original paper (https://arxiv.org/abs/1502.03167)   #\n",
    "        # might prove to be helpful.                                          #\n",
    "        #######################################################################\n",
    "\n",
    "          m=x.shape[0]\n",
    "          cache=(x,gamma,beta)\n",
    "          mean=np.mean(x,0)\n",
    "          std=np.std(x,0)\n",
    "          running_mean=(1-momentum)*np.mean(x,0)+momentum*running_mean\n",
    "          running_var=(1-momentum)*std**2+momentum*running_var\n",
    "          out=(x-np.mean(x,0))/np.sqrt(std**2+eps)*gamma+beta\n",
    "\n",
    "        #######################################################################\n",
    "        #                           END OF YOUR CODE                          #\n",
    "        #######################################################################\n",
    "    elif mode == 'test':\n",
    "        #######################################################################\n",
    "        # TODO: Implement the test-time forward pass for batch normalization. #\n",
    "        # Use the running mean and variance to normalize the incoming data,   #\n",
    "        # then scale and shift the normalized data using gamma and beta.      #\n",
    "        # Store the result in the out variable.                               #\n",
    "        #######################################################################\n",
    "          m=x.shape[0]\n",
    "          cache=(x,gamma,beta)\n",
    "\n",
    "          out=(x-running_mean)/np.sqrt(running_var+eps)*gamma+beta\n",
    "        \n",
    "        \n",
    "        \n",
    "        \n",
    "        #######################################################################\n",
    "        #                          END OF YOUR CODE                           #\n",
    "        #######################################################################\n",
    "    else:\n",
    "        raise ValueError('Invalid forward batchnorm mode \"%s\"' % mode)\n",
    "\n",
    "    # Store the updated running means back into bn_param\n",
    "    bn_param['running_mean'] = running_mean\n",
    "    bn_param['running_var'] = running_var\n",
    "\n",
    "    return out, cache"
   ]
  },
  {
   "cell_type": "markdown",
   "metadata": {
    "colab_type": "text",
    "id": "m9fK48-UpwT-"
   },
   "source": [
    "Check the training-time forward pass by checking means and variances of features both before and after batch normalization."
   ]
  },
  {
   "cell_type": "code",
   "execution_count": 0,
   "metadata": {
    "colab": {
     "base_uri": "https://localhost:8080/",
     "height": 236
    },
    "colab_type": "code",
    "id": "8MamMy7u2v__",
    "outputId": "be818aed-ac53-485e-b90c-d7f552e016a7"
   },
   "outputs": [
    {
     "name": "stdout",
     "output_type": "stream",
     "text": [
      "Before batch normalization:\n",
      "  means:  [ -2.3814598  -13.18038246   1.91780462]\n",
      "  stds:   [27.18502186 34.21455511 37.68611762]\n",
      "\n",
      "After batch normalization (gamma=1, beta=0)\n",
      "  means:  [3.33066907e-17 7.04991621e-17 1.85962357e-17]\n",
      "  stds:   [0.99999999 1.         1.        ]\n",
      "\n",
      "After batch normalization (gamma= [1. 2. 3.] , beta= [11. 12. 13.] )\n",
      "  means:  [11. 12. 13.]\n",
      "  stds:   [0.99999999 1.99999999 2.99999999]\n",
      "\n"
     ]
    }
   ],
   "source": [
    "# Simulate the forward pass for a two-layer network\n",
    "np.random.seed(231)\n",
    "N, D1, D2, D3 = 200, 50, 60, 3\n",
    "X = np.random.randn(N, D1)\n",
    "W1 = np.random.randn(D1, D2)\n",
    "W2 = np.random.randn(D2, D3)\n",
    "a = np.maximum(0, X.dot(W1)).dot(W2)\n",
    "\n",
    "print('Before batch normalization:')\n",
    "print_mean_std(a,axis=0)\n",
    "\n",
    "gamma = np.ones((D3,))\n",
    "beta = np.zeros((D3,))\n",
    "# Means should be close to zero and stds close to one\n",
    "print('After batch normalization (gamma=1, beta=0)')\n",
    "a_norm, _ = batchnorm_forward(a, gamma, beta, {'mode': 'train'})\n",
    "print_mean_std(a_norm,axis=0)\n",
    "\n",
    "gamma = np.asarray([1.0, 2.0, 3.0])\n",
    "beta = np.asarray([11.0, 12.0, 13.0])\n",
    "# Now means should be close to beta and stds close to gamma\n",
    "print('After batch normalization (gamma=', gamma, ', beta=', beta, ')')\n",
    "a_norm, _ = batchnorm_forward(a, gamma, beta, {'mode': 'train'})\n",
    "print_mean_std(a_norm,axis=0)"
   ]
  },
  {
   "cell_type": "markdown",
   "metadata": {
    "colab_type": "text",
    "id": "q-Srts_Hp08d"
   },
   "source": [
    "Check the test-time forward pass by running the training-time forward pass many times to warm up the running averages, and then checking the means and variances of activations after a test-time forward pass."
   ]
  },
  {
   "cell_type": "code",
   "execution_count": 0,
   "metadata": {
    "colab": {
     "base_uri": "https://localhost:8080/",
     "height": 90
    },
    "colab_type": "code",
    "id": "lof2w2By2wAC",
    "outputId": "28c79106-be49-4092-e6cf-57da8edd1daf"
   },
   "outputs": [
    {
     "name": "stdout",
     "output_type": "stream",
     "text": [
      "After batch normalization (test-time):\n",
      "  means:  [-0.03927354 -0.04349152 -0.10452688]\n",
      "  stds:   [1.01531428 1.01238373 0.97819988]\n",
      "\n"
     ]
    }
   ],
   "source": [
    "np.random.seed(231)\n",
    "N, D1, D2, D3 = 200, 50, 60, 3\n",
    "W1 = np.random.randn(D1, D2)\n",
    "W2 = np.random.randn(D2, D3)\n",
    "\n",
    "bn_param = {'mode': 'train'}\n",
    "gamma = np.ones(D3)\n",
    "beta = np.zeros(D3)\n",
    "\n",
    "for t in range(50):\n",
    "  X = np.random.randn(N, D1)\n",
    "  a = np.maximum(0, X.dot(W1)).dot(W2)\n",
    "  batchnorm_forward(a, gamma, beta, bn_param)\n",
    "\n",
    "bn_param['mode'] = 'test'\n",
    "X = np.random.randn(N, D1)\n",
    "a = np.maximum(0, X.dot(W1)).dot(W2)\n",
    "a_norm, _ = batchnorm_forward(a, gamma, beta, bn_param)\n",
    "\n",
    "# Means should be close to zero and stds close to one, but will be\n",
    "# noisier than training-time forward passes.\n",
    "print('After batch normalization (test-time):')\n",
    "print_mean_std(a_norm,axis=0)"
   ]
  },
  {
   "cell_type": "markdown",
   "metadata": {
    "colab_type": "text",
    "id": "QgNH2lwS2wAF"
   },
   "source": [
    "## Batch normalization: backward\n",
    "Now implement the backward pass for batch normalization in the function `batchnorm_backward`.\n",
    "\n",
    "To derive the backward pass you should write out the computation graph for batch normalization and backprop through each of the intermediate nodes. Some intermediates may have multiple outgoing branches; make sure to sum gradients across these branches in the backward pass."
   ]
  },
  {
   "cell_type": "code",
   "execution_count": 0,
   "metadata": {
    "colab": {},
    "colab_type": "code",
    "id": "bKONZ_8A5kEA"
   },
   "outputs": [],
   "source": [
    "def batchnorm_backward(dout, cache):\n",
    "    \"\"\"\n",
    "    Backward pass for batch normalization.\n",
    "\n",
    "    For this implementation, you should write out a computation graph for\n",
    "    batch normalization on paper and propagate gradients backward through\n",
    "    intermediate nodes.\n",
    "\n",
    "    Inputs:\n",
    "    - dout: Upstream derivatives, of shape (N, D)\n",
    "    - cache: Variable of intermediates from batchnorm_forward.\n",
    "\n",
    "    Returns a tuple of:\n",
    "    - dx: Gradient with respect to inputs x, of shape (N, D)\n",
    "    - dgamma: Gradient with respect to scale parameter gamma, of shape (D,)\n",
    "    - dbeta: Gradient with respect to shift parameter beta, of shape (D,)\n",
    "    \"\"\"\n",
    "    dx, dgamma, dbeta = None, None, None\n",
    "    ###########################################################################\n",
    "    # TODO: Implement the backward pass for batch normalization. Store the    #\n",
    "    # results in the dx, dgamma, and dbeta variables.                         #\n",
    "    # Referencing the original paper (https://arxiv.org/abs/1502.03167)       #\n",
    "    # might prove to be helpful.                                              #\n",
    "    ###########################################################################\n",
    "    x,gamma,beta=cache\n",
    "    eps=1e-5\n",
    "    m=x.shape[0]\n",
    "    dx,dgamma,dbeta=None,None,None\n",
    "    #out=(x-np.mean(x,0))/np.sqrt((np.std(x,0)**2+eps))*gamma+beta\n",
    "    std=np.std(x,0)\n",
    "    #out=(x-np.mean(x,0))/np.sqrt((std**2+eps))*gamma+beta          \n",
    "    x_norm=(x-np.mean(x,0))/np.sqrt(std**2+eps)\n",
    "   \n",
    "    miu=np.mean(x,0)\n",
    "    std=np.std(x,0)\n",
    "    d_normx=dout*gamma\n",
    "    d_deviation=np.sum(d_normx*(x-miu),0)*(-0.5)*(std**2+eps)**(-1.5)\n",
    "    d_miu=np.sum(d_normx*(-1)/np.sqrt(std**2+eps),0)+d_deviation*(np.sum(-2*(x-miu),0))/m\n",
    "\n",
    "    dx=d_normx/np.sqrt(std**2+eps)+d_deviation*2*(x-miu)/m+d_miu/m\n",
    "    #print(dout.shape,\"dou.shape\")\n",
    "    #print(out.shape,\"ou.shape\")\n",
    "    dgamma=np.sum(dout*x_norm,0)\n",
    "   # print(dout,\"dout\",x_norm,\"out\")\n",
    "    dbeta=np.sum(dout,0)\n",
    "\n",
    "    ###########################################################################\n",
    "    #                             END OF YOUR CODE                            #\n",
    "    ###########################################################################\n",
    "\n",
    "    return dx, dgamma, dbeta"
   ]
  },
  {
   "cell_type": "markdown",
   "metadata": {
    "colab_type": "text",
    "id": "TKnps1aDp9GE"
   },
   "source": [
    "Run the following to numerically check your backward pass."
   ]
  },
  {
   "cell_type": "code",
   "execution_count": 0,
   "metadata": {
    "colab": {
     "base_uri": "https://localhost:8080/",
     "height": 72
    },
    "colab_type": "code",
    "id": "rfU8nOuS2wAG",
    "outputId": "7150a421-0afb-46e2-ed5a-f00155957789"
   },
   "outputs": [
    {
     "name": "stdout",
     "output_type": "stream",
     "text": [
      "dx error:  1.6674630430374151e-09\n",
      "dgamma error:  7.378954934067588e-13\n",
      "dbeta error:  2.6853898000928757e-12\n"
     ]
    }
   ],
   "source": [
    "# Gradient check batchnorm backward pass\n",
    "np.random.seed(231)\n",
    "N, D = 4, 5\n",
    "x = 5 * np.random.randn(N, D) + 12\n",
    "gamma = np.random.randn(D)\n",
    "beta = np.random.randn(D)\n",
    "dout = np.random.randn(N, D)\n",
    "\n",
    "bn_param = {'mode': 'train'}\n",
    "fx = lambda x: batchnorm_forward(x, gamma, beta, bn_param)[0]\n",
    "fg = lambda a: batchnorm_forward(x, a, beta, bn_param)[0]\n",
    "fb = lambda b: batchnorm_forward(x, gamma, b, bn_param)[0]\n",
    "\n",
    "dx_num = eval_numerical_gradient_array(fx, x, dout)\n",
    "da_num = eval_numerical_gradient_array(fg, gamma.copy(), dout)\n",
    "#print((x-np.mean(x,0))/np.std(x,0),\"x\")\n",
    "db_num = eval_numerical_gradient_array(fb, beta.copy(), dout)\n",
    "\n",
    "_, cache = batchnorm_forward(x, gamma, beta, bn_param)\n",
    "dx, dgamma, dbeta = batchnorm_backward(dout, cache)\n",
    "#You should expect to see relative errors between 1e-13 and 1e-8\n",
    "print('dx error: ', rel_error(dx_num, dx))\n",
    "print('dgamma error: ', rel_error(da_num, dgamma))\n",
    "print('dbeta error: ', rel_error(db_num, dbeta))"
   ]
  },
  {
   "cell_type": "markdown",
   "metadata": {
    "colab_type": "text",
    "id": "MLb2VztWqeoR"
   },
   "source": [
    "## Batch normalization sandwich layer\n",
    "Let's create some affine-batchnorm-relu sandwich layers."
   ]
  },
  {
   "cell_type": "code",
   "execution_count": 0,
   "metadata": {
    "colab": {},
    "colab_type": "code",
    "id": "utNTNiEUn1Md"
   },
   "outputs": [],
   "source": [
    "def affine_bn_relu_forward(x, w, b, gamma, beta, bn_param):\n",
    "    \"\"\"\n",
    "    Convenience layer that perorms an affine transform followed by a ReLU\n",
    "\n",
    "    Inputs:\n",
    "    - x: Input to the affine layer\n",
    "    - w, b: Weights for the affine layer\n",
    "\n",
    "    Returns a tuple of:\n",
    "    - out: Output from the ReLU\n",
    "    - cache: Object to give to the backward pass\n",
    "    \"\"\"\n",
    "    a, fc_cache = affine_forward(x, w, b)\n",
    "    bn, bn_cache = batchnorm_forward(a, gamma, beta, bn_param)\n",
    "    out, relu_cache = relu_forward(bn)\n",
    "    cache = (fc_cache, bn_cache, relu_cache)\n",
    "    return out, cache\n",
    "\n",
    "\n",
    "def affine_bn_relu_backward(dout, cache):\n",
    "    \"\"\"\n",
    "    Backward pass for the affine-relu convenience layer\n",
    "    \"\"\"\n",
    "    fc_cache, bn_cache, relu_cache = cache\n",
    "    dbn = relu_backward(dout, relu_cache)\n",
    "    da, dgamma, dbeta = batchnorm_backward(dbn, bn_cache)\n",
    "    dx, dw, db = affine_backward(da, fc_cache)\n",
    "    return dx, dw, db, dgamma, dbeta\n"
   ]
  },
  {
   "cell_type": "markdown",
   "metadata": {
    "colab_type": "text",
    "id": "g2OMoRxE2wAM"
   },
   "source": [
    "## Fully Connected Nets with Batch Normalization\n",
    "Now that you have a working implementation for batch normalization, go back to your `FullyConnectedNet` and modify your implementation to add batch normalization.\n",
    "\n",
    "Concretely, when the `batchnorm` flag is set to `True` in the constructor, you should insert a batch normalization layer before each ReLU nonlinearity. The outputs from the last layer of the network should not be normalized. Once you are done, run the following to gradient-check your implementation."
   ]
  },
  {
   "cell_type": "code",
   "execution_count": 0,
   "metadata": {
    "colab": {
     "base_uri": "https://localhost:8080/",
     "height": 474
    },
    "colab_type": "code",
    "id": "Yhck9yfZ2wAN",
    "outputId": "27d73ac7-6352-469b-f182-8c51c91d1e51"
   },
   "outputs": [
    {
     "name": "stdout",
     "output_type": "stream",
     "text": [
      "Running check with reg =  0\n",
      "Initial loss:  2.1630667686093323\n",
      "W1 relative error: 2.22e-05\n",
      "W2 relative error: 1.54e-05\n",
      "W3 relative error: 6.52e-08\n",
      "b1 relative error: 1.62e-19\n",
      "b2 relative error: 5.55e-09\n",
      "b3 relative error: 6.41e-08\n",
      "beta1 relative error: 2.13e-05\n",
      "beta2 relative error: 1.45e-09\n",
      "gamma1 relative error: 2.61e-05\n",
      "gamma2 relative error: 1.45e-09\n",
      "\n",
      "Running check with reg =  3.14\n",
      "Initial loss:  6.992461493866522\n",
      "W1 relative error: 1.64e-09\n",
      "W2 relative error: 1.23e-09\n",
      "W3 relative error: 3.40e-06\n",
      "b1 relative error: 8.08e-20\n",
      "b2 relative error: 1.39e-09\n",
      "b3 relative error: 6.59e-08\n",
      "beta1 relative error: 2.40e-05\n",
      "beta2 relative error: 7.87e-10\n",
      "gamma1 relative error: 2.40e-05\n",
      "gamma2 relative error: 7.41e-10\n"
     ]
    }
   ],
   "source": [
    "np.random.seed(231)\n",
    "N, D, H1, H2, C = 2, 15, 20, 30, 10\n",
    "X = np.random.randn(N, D)\n",
    "y = np.random.randint(C, size=(N,))\n",
    "\n",
    "# You should expect errors between 1e-4~1e-10 for W, \n",
    "# errors between 1e-08~1e-10 for b,\n",
    "# and errors between 1e-08~1e-09 for beta and gammas.\n",
    "for reg in [0, 3.14]:\n",
    "  print('Running check with reg = ', reg)\n",
    "  model = FullyConnectedNet([H1, H2], input_dim=D, num_classes=C,\n",
    "                            reg=reg, weight_scale=5e-2, dtype=np.float64,\n",
    "                            batchnorm=True)\n",
    "\n",
    "  loss, grads = model.loss(X, y)\n",
    "  print('Initial loss: ', loss)\n",
    "\n",
    "  for name in sorted(grads):\n",
    "    f = lambda _: model.loss(X, y)[0]\n",
    "    grad_num = eval_numerical_gradient(f, model.params[name], verbose=False, h=1e-3)\n",
    "    print('%s relative error: %.2e' % (name, rel_error(grad_num, grads[name])))\n",
    "  if reg == 0: print()"
   ]
  },
  {
   "cell_type": "markdown",
   "metadata": {
    "colab_type": "text",
    "id": "6dSZVSlj2wAQ"
   },
   "source": [
    "# Batchnorm for deep networks\n",
    "Run the following to train a six-layer network on a subset of 1000 training examples both with and without batch normalization."
   ]
  },
  {
   "cell_type": "code",
   "execution_count": 0,
   "metadata": {
    "colab": {
     "base_uri": "https://localhost:8080/",
     "height": 821
    },
    "colab_type": "code",
    "id": "HSGhoMa72wAR",
    "outputId": "cf358317-b1a8-4674-8401-f0000f69f16a"
   },
   "outputs": [
    {
     "name": "stdout",
     "output_type": "stream",
     "text": [
      "update_rule adam\n",
      "(Iteration 1 / 200) loss: 2.294990\n",
      "(Epoch 0 / 10) train acc: 0.141000; val_acc: 0.140000\n",
      "(Epoch 1 / 10) train acc: 0.368000; val_acc: 0.295000\n",
      "(Iteration 21 / 200) loss: 1.975848\n",
      "(Epoch 2 / 10) train acc: 0.395000; val_acc: 0.306000\n",
      "(Iteration 41 / 200) loss: 2.051379\n",
      "(Epoch 3 / 10) train acc: 0.470000; val_acc: 0.301000\n",
      "(Iteration 61 / 200) loss: 1.760457\n",
      "(Epoch 4 / 10) train acc: 0.527000; val_acc: 0.287000\n",
      "(Iteration 81 / 200) loss: 1.366758\n",
      "(Epoch 5 / 10) train acc: 0.622000; val_acc: 0.306000\n",
      "(Iteration 101 / 200) loss: 1.275778\n",
      "(Epoch 6 / 10) train acc: 0.653000; val_acc: 0.351000\n",
      "(Iteration 121 / 200) loss: 1.027111\n",
      "(Epoch 7 / 10) train acc: 0.706000; val_acc: 0.344000\n",
      "(Iteration 141 / 200) loss: 1.074356\n",
      "(Epoch 8 / 10) train acc: 0.713000; val_acc: 0.330000\n",
      "(Iteration 161 / 200) loss: 0.918964\n",
      "(Epoch 9 / 10) train acc: 0.766000; val_acc: 0.328000\n",
      "(Iteration 181 / 200) loss: 0.713003\n",
      "(Epoch 10 / 10) train acc: 0.788000; val_acc: 0.307000\n",
      "update_rule adam\n",
      "(Iteration 1 / 200) loss: 2.302504\n",
      "(Epoch 0 / 10) train acc: 0.143000; val_acc: 0.151000\n",
      "(Epoch 1 / 10) train acc: 0.249000; val_acc: 0.218000\n",
      "(Iteration 21 / 200) loss: 2.062561\n",
      "(Epoch 2 / 10) train acc: 0.316000; val_acc: 0.281000\n",
      "(Iteration 41 / 200) loss: 1.841370\n",
      "(Epoch 3 / 10) train acc: 0.361000; val_acc: 0.302000\n",
      "(Iteration 61 / 200) loss: 1.669688\n",
      "(Epoch 4 / 10) train acc: 0.367000; val_acc: 0.282000\n",
      "(Iteration 81 / 200) loss: 1.548504\n",
      "(Epoch 5 / 10) train acc: 0.450000; val_acc: 0.307000\n",
      "(Iteration 101 / 200) loss: 1.583475\n",
      "(Epoch 6 / 10) train acc: 0.485000; val_acc: 0.318000\n",
      "(Iteration 121 / 200) loss: 1.390681\n",
      "(Epoch 7 / 10) train acc: 0.511000; val_acc: 0.311000\n",
      "(Iteration 141 / 200) loss: 1.476794\n",
      "(Epoch 8 / 10) train acc: 0.549000; val_acc: 0.312000\n",
      "(Iteration 161 / 200) loss: 1.157230\n",
      "(Epoch 9 / 10) train acc: 0.599000; val_acc: 0.322000\n",
      "(Iteration 181 / 200) loss: 1.292647\n",
      "(Epoch 10 / 10) train acc: 0.672000; val_acc: 0.319000\n"
     ]
    }
   ],
   "source": [
    "np.random.seed(231)\n",
    "# Try training a very deep net with batchnorm\n",
    "hidden_dims = [100, 100, 100, 100, 100]\n",
    "\n",
    "num_train = 1000\n",
    "small_data = {\n",
    "  'X_train': data['X_train'][:num_train],\n",
    "  'y_train': data['y_train'][:num_train],\n",
    "  'X_val': data['X_val'],\n",
    "  'y_val': data['y_val'],\n",
    "}\n",
    "\n",
    "weight_scale = 2e-2\n",
    "bn_model = FullyConnectedNet(hidden_dims, weight_scale=weight_scale, batchnorm=True)\n",
    "model = FullyConnectedNet(hidden_dims, weight_scale=weight_scale, batchnorm=False)\n",
    "\n",
    "bn_solver = Solver(bn_model, small_data,\n",
    "                num_epochs=10, batch_size=50,\n",
    "                update_rule='adam',\n",
    "                optim_config={\n",
    "                  'learning_rate': 1e-3,\n",
    "                },\n",
    "                verbose=True,print_every=20)\n",
    "bn_solver.train()\n",
    "\n",
    "solver = Solver(model, small_data,\n",
    "                num_epochs=10, batch_size=50,\n",
    "                update_rule='adam',\n",
    "                optim_config={\n",
    "                  'learning_rate': 1e-3,\n",
    "                },\n",
    "                verbose=True, print_every=20)\n",
    "solver.train()"
   ]
  },
  {
   "cell_type": "markdown",
   "metadata": {
    "colab_type": "text",
    "id": "NR88JwVw2wAU"
   },
   "source": [
    "Run the following to visualize the results from two networks trained above. You should find that using batch normalization helps the network to converge much faster."
   ]
  },
  {
   "cell_type": "code",
   "execution_count": 0,
   "metadata": {
    "colab": {
     "base_uri": "https://localhost:8080/",
     "height": 919
    },
    "colab_type": "code",
    "id": "iiuj6nQt2wAV",
    "outputId": "9ce5cb2b-2daf-4a4e-e73c-155c2bbcd643"
   },
   "outputs": [
    {
     "data": {
      "image/png": "[encoded data removed]",
      "text/plain": [
       "<Figure size 1080x1080 with 3 Axes>"
      ]
     },
     "metadata": {
      "tags": []
     },
     "output_type": "display_data"
    }
   ],
   "source": [
    "def plot_training_history(title, label, baseline, bn_solvers, plot_fn, bl_marker='.', bn_marker='.', labels=None):\n",
    "    \"\"\"utility function for plotting training history\"\"\"\n",
    "    plt.title(title)\n",
    "    plt.xlabel(label)\n",
    "    bn_plots = [plot_fn(bn_solver) for bn_solver in bn_solvers]\n",
    "    bl_plot = plot_fn(baseline)\n",
    "    num_bn = len(bn_plots)\n",
    "    for i in range(num_bn):\n",
    "        label='with_norm'\n",
    "        if labels is not None:\n",
    "            label += str(labels[i])\n",
    "        plt.plot(bn_plots[i], bn_marker, label=label)\n",
    "    label='baseline'\n",
    "    if labels is not None:\n",
    "        label += str(labels[0])\n",
    "    plt.plot(bl_plot, bl_marker, label=label)\n",
    "    plt.legend(loc='lower center', ncol=num_bn+1) \n",
    "\n",
    "    \n",
    "plt.subplot(3, 1, 1)\n",
    "plot_training_history('Training loss','Iteration', solver, [bn_solver], \\\n",
    "                      lambda x: x.loss_history, bl_marker='o', bn_marker='o')\n",
    "plt.subplot(3, 1, 2)\n",
    "plot_training_history('Training accuracy','Epoch', solver, [bn_solver], \\\n",
    "                      lambda x: x.train_acc_history, bl_marker='-o', bn_marker='-o')\n",
    "plt.subplot(3, 1, 3)\n",
    "plot_training_history('Validation accuracy','Epoch', solver, [bn_solver], \\\n",
    "                      lambda x: x.val_acc_history, bl_marker='-o', bn_marker='-o')\n",
    "\n",
    "plt.gcf().set_size_inches(15, 15)\n",
    "plt.show()"
   ]
  },
  {
   "cell_type": "markdown",
   "metadata": {
    "colab_type": "text",
    "id": "_5TZ-toa2jW3"
   },
   "source": [
    "# Dropout\n",
    "Dropout [1] is a technique for regularizing neural networks by randomly setting some features to zero during the forward pass.\n",
    "\n",
    "[1] [Geoffrey E. Hinton et al, \"Improving neural networks by preventing co-adaptation of feature detectors\", arXiv 2012](https://arxiv.org/abs/1207.0580)"
   ]
  },
  {
   "cell_type": "markdown",
   "metadata": {
    "colab_type": "text",
    "id": "tRYdxCMT2jXA"
   },
   "source": [
    "# Dropout forward pass\n",
    "Implement the forward pass for dropout below. Since dropout behaves differently during training and testing, make sure to implement the operation for both modes."
   ]
  },
  {
   "cell_type": "code",
   "execution_count": 0,
   "metadata": {
    "colab": {},
    "colab_type": "code",
    "id": "nGSXUWRWu-hE"
   },
   "outputs": [],
   "source": [
    "def dropout_forward(x, dropout_param):\n",
    "    \"\"\"\n",
    "    Performs the forward pass for (inverted) dropout.\n",
    "\n",
    "    Inputs:\n",
    "    - x: Input data, of any shape\n",
    "    - dropout_param: A dictionary with the following keys:\n",
    "      - p: Dropout parameter. We keep each neuron output with probability p.\n",
    "      - mode: 'test' or 'train'. If the mode is train, then perform dropout;\n",
    "        if the mode is test, then just return the input.\n",
    "      - seed: Seed for the random number generator. Passing seed makes this\n",
    "        function deterministic, which is needed for gradient checking but not\n",
    "        in real networks.\n",
    "\n",
    "    Outputs:\n",
    "    - out: Array of the same shape as x.\n",
    "    - cache: tuple (dropout_param, mask). In training mode, mask is the dropout\n",
    "      mask that was used to multiply the input; in test mode, mask is None.\n",
    "\n",
    "    NOTE: Please implement **inverted** dropout, not the vanilla version of dropout.\n",
    "    See http://cs231n.github.io/neural-networks-2/#reg for more details.\n",
    "\n",
    "    NOTE 2: Keep in mind that p is the probability of **keeping** a neuron\n",
    "    output; this might be contrary to some sources, where it is referred to\n",
    "    as the probability of dropping a neuron output.\n",
    "    \"\"\"\n",
    "    p, mode = dropout_param['p'], dropout_param['mode']\n",
    "    if 'seed' in dropout_param:\n",
    "        np.random.seed(dropout_param['seed'])\n",
    "\n",
    "    mask = None\n",
    "    out = None\n",
    "\n",
    "    if mode == 'train':\n",
    "        #######################################################################\n",
    "        # TODO: Implement training phase forward pass for inverted dropout.   #\n",
    "        # Store the dropout mask in the mask variable.                        #\n",
    "        #######################################################################\n",
    "          mask=np.random.binomial(1,dropout_param['p'],x.shape)\n",
    "          out=x*mask/dropout_param['p']\n",
    "          \n",
    "          cache=x,mask\n",
    "\n",
    "        \n",
    "        \n",
    "        #######################################################################\n",
    "        #                           END OF YOUR CODE                          #\n",
    "        #######################################################################\n",
    "    elif mode == 'test':\n",
    "        #######################################################################\n",
    "        # TODO: Implement the test phase forward pass for inverted dropout.   #\n",
    "        #######################################################################\n",
    "     \n",
    "          mask=np.random.binomial(1,1,x.shape)\n",
    "          out=x*mask\n",
    "          \n",
    "          cache=x,mask\n",
    "\n",
    "        \n",
    "        #######################################################################\n",
    "        #                            END OF YOUR CODE                         #\n",
    "        #######################################################################\n",
    "\n",
    "    cache = (dropout_param, mask)\n",
    "    out = out.astype(x.dtype, copy=False)\n",
    "\n",
    "    return out, cache"
   ]
  },
  {
   "cell_type": "markdown",
   "metadata": {
    "colab_type": "text",
    "id": "X48mrb8yqbyU"
   },
   "source": [
    "Run the cell below to test the forward pass."
   ]
  },
  {
   "cell_type": "code",
   "execution_count": 16,
   "metadata": {
    "colab": {
     "base_uri": "https://localhost:8080/",
     "height": 399
    },
    "colab_type": "code",
    "id": "vW35f0FJ2jXB",
    "outputId": "4928ed0c-dfc6-4d50-ca2d-ce0e317b8f2f"
   },
   "outputs": [
    {
     "name": "stdout",
     "output_type": "stream",
     "text": [
      "Running tests with p =  0.25\n",
      "Mean of input:  10.000207878477502\n",
      "Mean of train-time output:  10.006234670544599\n",
      "Mean of test-time output:  10.000207878477502\n",
      "Fraction of train-time output set to zero:  0.749832\n",
      "Fraction of test-time output set to zero:  0.0\n",
      "\n",
      "Running tests with p =  0.4\n",
      "Mean of input:  10.000207878477502\n",
      "Mean of train-time output:  10.033830252731851\n",
      "Mean of test-time output:  10.000207878477502\n",
      "Fraction of train-time output set to zero:  0.598748\n",
      "Fraction of test-time output set to zero:  0.0\n",
      "\n",
      "Running tests with p =  0.7\n",
      "Mean of input:  10.000207878477502\n",
      "Mean of train-time output:  9.988455973951861\n",
      "Mean of test-time output:  10.000207878477502\n",
      "Fraction of train-time output set to zero:  0.301024\n",
      "Fraction of test-time output set to zero:  0.0\n",
      "\n"
     ]
    }
   ],
   "source": [
    "np.random.seed(231)\n",
    "x = np.random.randn(500, 500) + 10\n",
    "\n",
    "for p in [0.25, 0.4, 0.7]:\n",
    "  out, _ = dropout_forward(x, {'mode': 'train', 'p': p})\n",
    "  out_test, _ = dropout_forward(x, {'mode': 'test', 'p': p})\n",
    "\n",
    "  print('Running tests with p = ', p)\n",
    "  print('Mean of input: ', x.mean())\n",
    "  print('Mean of train-time output: ', out.mean())\n",
    "  print('Mean of test-time output: ', out_test.mean())\n",
    "  print('Fraction of train-time output set to zero: ', (out == 0).mean())\n",
    "  print('Fraction of test-time output set to zero: ', (out_test == 0).mean())\n",
    "  print()"
   ]
  },
  {
   "cell_type": "markdown",
   "metadata": {
    "colab_type": "text",
    "id": "3csy0lNH2jXE"
   },
   "source": [
    "# Dropout backward pass\n",
    "Implement the backward pass for dropout below."
   ]
  },
  {
   "cell_type": "code",
   "execution_count": 0,
   "metadata": {
    "colab": {},
    "colab_type": "code",
    "id": "9EU0sWlgwZSI"
   },
   "outputs": [],
   "source": [
    "def dropout_backward(dout, cache):\n",
    "    \"\"\"\n",
    "    Perform the backward pass for (inverted) dropout.\n",
    "\n",
    "    Inputs:\n",
    "    - dout: Upstream derivatives, of any shape\n",
    "    - cache: (dropout_param, mask) from dropout_forward.\n",
    "    \"\"\"\n",
    "    dropout_param, mask = cache\n",
    "    mode = dropout_param['mode']\n",
    "\n",
    "    dx = None\n",
    "    if mode == 'train':\n",
    "        #######################################################################\n",
    "        # TODO: Implement training phase backward pass for inverted dropout   #\n",
    "        #######################################################################\n",
    "        \n",
    "          x,mask=cache\n",
    "          dx=dout*mask/dropout_param['p']\n",
    "        \n",
    "        \n",
    "        \n",
    "        \n",
    "        #######################################################################\n",
    "        #                          END OF YOUR CODE                           #\n",
    "        #######################################################################\n",
    "    elif mode == 'test':\n",
    "        dx = dout\n",
    "    return dx"
   ]
  },
  {
   "cell_type": "markdown",
   "metadata": {
    "colab_type": "text",
    "id": "0DcQ5QbKqk42"
   },
   "source": [
    "Run the cell below to test the forward pass."
   ]
  },
  {
   "cell_type": "code",
   "execution_count": 18,
   "metadata": {
    "colab": {
     "base_uri": "https://localhost:8080/",
     "height": 35
    },
    "colab_type": "code",
    "id": "H0TysC3M2jXF",
    "outputId": "f617428f-66d7-481d-ecd8-fde723584b56"
   },
   "outputs": [
    {
     "name": "stdout",
     "output_type": "stream",
     "text": [
      "dx relative error:  1.8928934444458168e-11\n"
     ]
    }
   ],
   "source": [
    "np.random.seed(231)\n",
    "x = np.random.randn(10, 10) + 10\n",
    "dout = np.random.randn(*x.shape)\n",
    "\n",
    "dropout_param = {'mode': 'train', 'p': 0.2, 'seed': 123}\n",
    "out, cache = dropout_forward(x, dropout_param)\n",
    "dx = dropout_backward(dout, cache)\n",
    "dx_num = eval_numerical_gradient_array(lambda xx: dropout_forward(xx, dropout_param)[0], x, dout)\n",
    "\n",
    "# Error should be around e-10 or less\n",
    "print('dx relative error: ', rel_error(dx, dx_num))"
   ]
  },
  {
   "cell_type": "markdown",
   "metadata": {
    "colab_type": "text",
    "id": "TivGFXZG2jXI"
   },
   "source": [
    "## Inline Question 1:\n",
    "What happens if we do not divide the values being passed through inverse dropout by `p` in the dropout layer? Why does that happen?"
   ]
  },
  {
   "cell_type": "markdown",
   "metadata": {
    "colab_type": "text",
    "id": "Tc4IgHef2jXJ"
   },
   "source": [
    "## Answer:\n",
    "The output value are going to be smaller, the mean of output is only p of the original value. and we will not predict very well. Because we use dropouted version to train but use full version to test, it will surely make mistakes. "
   ]
  },
  {
   "cell_type": "markdown",
   "metadata": {
    "colab_type": "text",
    "id": "d2BjfGv_2jXK"
   },
   "source": [
    "# Fully-connected nets with Dropout\n",
    "Modify your implementation of `FullyConnectedNet` above to use dropout. Specifically, if the constructor of the net receives a value that is not 1 for the `dropout` parameter, then the net should add dropout immediately after every ReLU nonlinearity. After doing so, run the following to numerically gradient-check your implementation."
   ]
  },
  {
   "cell_type": "code",
   "execution_count": 0,
   "metadata": {
    "colab": {
     "base_uri": "https://localhost:8080/",
     "height": 510
    },
    "colab_type": "code",
    "id": "b68YxFFp2jXL",
    "outputId": "279c64e4-20e3-4653-9d0c-7f394c902b59"
   },
   "outputs": [
    {
     "name": "stdout",
     "output_type": "stream",
     "text": [
      "Running check with dropout =  1\n",
      "Initial loss:  2.3004790897684924\n",
      "W1 relative error: 1.48e-07\n",
      "W2 relative error: 2.21e-05\n",
      "W3 relative error: 3.53e-07\n",
      "b1 relative error: 5.38e-09\n",
      "b2 relative error: 2.09e-09\n",
      "b3 relative error: 5.80e-11\n",
      "\n",
      "Running check with dropout =  0.75\n",
      "Initial loss:  2.3009463799475673\n",
      "W1 relative error: 1.23e-06\n",
      "W2 relative error: 3.49e-07\n",
      "W3 relative error: 4.36e-08\n",
      "b1 relative error: 3.72e-09\n",
      "b2 relative error: 7.55e-10\n",
      "b3 relative error: 6.92e-11\n",
      "\n",
      "Running check with dropout =  0.5\n",
      "Initial loss:  2.292454855416425\n",
      "W1 relative error: 9.95e-08\n",
      "W2 relative error: 1.32e-07\n",
      "W3 relative error: 9.24e-06\n",
      "b1 relative error: 6.76e-09\n",
      "b2 relative error: 4.00e-10\n",
      "b3 relative error: 1.08e-10\n",
      "\n"
     ]
    }
   ],
   "source": [
    "np.random.seed(231)\n",
    "N, D, H1, H2, C = 2, 15, 20, 30, 10\n",
    "X = np.random.randn(N, D)\n",
    "y = np.random.randint(C, size=(N,))\n",
    "\n",
    "for dropout in [1, 0.75, 0.5]:\n",
    "  print('Running check with dropout = ', dropout)\n",
    "  model = FullyConnectedNet([H1, H2], input_dim=D, num_classes=C,\n",
    "                            weight_scale=5e-2, dtype=np.float64,\n",
    "                            dropout=dropout, seed=123)\n",
    "\n",
    "  loss, grads = model.loss(X, y)\n",
    "  print('Initial loss: ', loss)\n",
    "  \n",
    "  # Relative errors should be around e-6 or less; Note that it's fine\n",
    "  # if for dropout=1 you have W2 error be on the order of e-5.\n",
    "  for name in sorted(grads):\n",
    "    f = lambda _: model.loss(X, y)[0]\n",
    "    grad_num = eval_numerical_gradient(f, model.params[name], verbose=False, h=1e-5)\n",
    "    print('%s relative error: %.2e' % (name, rel_error(grad_num, grads[name])))\n",
    "  print()"
   ]
  },
  {
   "cell_type": "markdown",
   "metadata": {
    "colab_type": "text",
    "id": "HSgD_qbK2jXO"
   },
   "source": [
    "# Regularization experiment\n",
    "As an experiment, we will train a pair of two-layer networks on 500 training examples: one will use no dropout, and one will use a keep probability of 0.25. We will then visualize the training and validation accuracies of the two networks over time."
   ]
  },
  {
   "cell_type": "code",
   "execution_count": 0,
   "metadata": {
    "colab": {
     "base_uri": "https://localhost:8080/",
     "height": 1000
    },
    "colab_type": "code",
    "id": "-S1z78TY2jXP",
    "outputId": "09e0371c-7230-4e52-e2d4-6665f96cee44"
   },
   "outputs": [
    {
     "name": "stdout",
     "output_type": "stream",
     "text": [
      "1\n",
      "update_rule adam\n",
      "(Iteration 1 / 125) loss: 8.760280\n",
      "(Epoch 0 / 25) train acc: 0.286000; val_acc: 0.199000\n",
      "(Epoch 1 / 25) train acc: 0.362000; val_acc: 0.229000\n",
      "(Epoch 2 / 25) train acc: 0.482000; val_acc: 0.273000\n",
      "(Epoch 3 / 25) train acc: 0.616000; val_acc: 0.277000\n",
      "(Epoch 4 / 25) train acc: 0.666000; val_acc: 0.262000\n",
      "(Epoch 5 / 25) train acc: 0.720000; val_acc: 0.258000\n",
      "(Epoch 6 / 25) train acc: 0.790000; val_acc: 0.271000\n",
      "(Epoch 7 / 25) train acc: 0.834000; val_acc: 0.261000\n",
      "(Epoch 8 / 25) train acc: 0.842000; val_acc: 0.268000\n",
      "(Epoch 9 / 25) train acc: 0.894000; val_acc: 0.286000\n",
      "(Epoch 10 / 25) train acc: 0.918000; val_acc: 0.255000\n",
      "(Epoch 11 / 25) train acc: 0.900000; val_acc: 0.266000\n",
      "(Epoch 12 / 25) train acc: 0.912000; val_acc: 0.278000\n",
      "(Epoch 13 / 25) train acc: 0.954000; val_acc: 0.297000\n",
      "(Epoch 14 / 25) train acc: 0.952000; val_acc: 0.298000\n",
      "(Epoch 15 / 25) train acc: 0.972000; val_acc: 0.293000\n",
      "(Epoch 16 / 25) train acc: 0.984000; val_acc: 0.273000\n",
      "(Epoch 17 / 25) train acc: 0.982000; val_acc: 0.266000\n",
      "(Epoch 18 / 25) train acc: 0.980000; val_acc: 0.286000\n",
      "(Epoch 19 / 25) train acc: 0.980000; val_acc: 0.288000\n",
      "(Epoch 20 / 25) train acc: 0.968000; val_acc: 0.294000\n",
      "(Iteration 101 / 125) loss: 0.213640\n",
      "(Epoch 21 / 25) train acc: 0.962000; val_acc: 0.262000\n",
      "(Epoch 22 / 25) train acc: 0.982000; val_acc: 0.268000\n",
      "(Epoch 23 / 25) train acc: 0.994000; val_acc: 0.276000\n",
      "(Epoch 24 / 25) train acc: 0.992000; val_acc: 0.276000\n",
      "(Epoch 25 / 25) train acc: 0.994000; val_acc: 0.283000\n",
      "0.25\n",
      "update_rule adam\n",
      "(Iteration 1 / 125) loss: 34.945523\n",
      "(Epoch 0 / 25) train acc: 0.250000; val_acc: 0.204000\n",
      "(Epoch 1 / 25) train acc: 0.366000; val_acc: 0.228000\n",
      "(Epoch 2 / 25) train acc: 0.546000; val_acc: 0.255000\n",
      "(Epoch 3 / 25) train acc: 0.616000; val_acc: 0.233000\n",
      "(Epoch 4 / 25) train acc: 0.680000; val_acc: 0.264000\n",
      "(Epoch 5 / 25) train acc: 0.720000; val_acc: 0.269000\n",
      "(Epoch 6 / 25) train acc: 0.700000; val_acc: 0.278000\n",
      "(Epoch 7 / 25) train acc: 0.798000; val_acc: 0.290000\n",
      "(Epoch 8 / 25) train acc: 0.822000; val_acc: 0.292000\n",
      "(Epoch 9 / 25) train acc: 0.878000; val_acc: 0.297000\n",
      "(Epoch 10 / 25) train acc: 0.902000; val_acc: 0.288000\n",
      "(Epoch 11 / 25) train acc: 0.922000; val_acc: 0.295000\n",
      "(Epoch 12 / 25) train acc: 0.932000; val_acc: 0.284000\n",
      "(Epoch 13 / 25) train acc: 0.918000; val_acc: 0.277000\n",
      "(Epoch 14 / 25) train acc: 0.938000; val_acc: 0.309000\n",
      "(Epoch 15 / 25) train acc: 0.956000; val_acc: 0.319000\n",
      "(Epoch 16 / 25) train acc: 0.932000; val_acc: 0.306000\n",
      "(Epoch 17 / 25) train acc: 0.976000; val_acc: 0.304000\n",
      "(Epoch 18 / 25) train acc: 0.972000; val_acc: 0.297000\n",
      "(Epoch 19 / 25) train acc: 0.972000; val_acc: 0.316000\n",
      "(Epoch 20 / 25) train acc: 0.970000; val_acc: 0.329000\n",
      "(Iteration 101 / 125) loss: 0.752355\n",
      "(Epoch 21 / 25) train acc: 0.986000; val_acc: 0.309000\n",
      "(Epoch 22 / 25) train acc: 0.962000; val_acc: 0.305000\n",
      "(Epoch 23 / 25) train acc: 0.984000; val_acc: 0.288000\n",
      "(Epoch 24 / 25) train acc: 0.988000; val_acc: 0.297000\n",
      "(Epoch 25 / 25) train acc: 0.980000; val_acc: 0.293000\n"
     ]
    }
   ],
   "source": [
    "# Train two identical nets, one with dropout and one without\n",
    "np.random.seed(231)\n",
    "num_train = 500\n",
    "small_data = {\n",
    "  'X_train': data['X_train'][:num_train],\n",
    "  'y_train': data['y_train'][:num_train],\n",
    "  'X_val': data['X_val'],\n",
    "  'y_val': data['y_val'],\n",
    "}\n",
    "\n",
    "solvers = {}\n",
    "dropout_choices = [1, 0.25]\n",
    "for dropout in dropout_choices:\n",
    "  model = FullyConnectedNet([500], dropout=dropout)\n",
    "  print(dropout)\n",
    "\n",
    "  solver = Solver(model, small_data,\n",
    "                  num_epochs=25, batch_size=100,\n",
    "                  update_rule='adam',\n",
    "                  optim_config={\n",
    "                    'learning_rate': 5e-4,\n",
    "                  },\n",
    "                  verbose=True, print_every=100)\n",
    "  solver.train()\n",
    "  solvers[dropout] = solver"
   ]
  },
  {
   "cell_type": "code",
   "execution_count": 0,
   "metadata": {
    "colab": {
     "base_uri": "https://localhost:8080/",
     "height": 631
    },
    "colab_type": "code",
    "id": "DvZ7RpkF2jXR",
    "outputId": "bb3c041f-c279-4f31-9032-593846941a01"
   },
   "outputs": [
    {
     "data": {
      "image/png": "[encoded data removed]",
      "text/plain": [
       "<Figure size 1080x1080 with 2 Axes>"
      ]
     },
     "metadata": {
      "tags": []
     },
     "output_type": "display_data"
    }
   ],
   "source": [
    "# Plot train and validation accuracies of the two models\n",
    "\n",
    "train_accs = []\n",
    "val_accs = []\n",
    "for dropout in dropout_choices:\n",
    "  solver = solvers[dropout]\n",
    "  train_accs.append(solver.train_acc_history[-1])\n",
    "  val_accs.append(solver.val_acc_history[-1])\n",
    "\n",
    "plt.subplot(3, 1, 1)\n",
    "for dropout in dropout_choices:\n",
    "  plt.plot(solvers[dropout].train_acc_history, 'o', label='%.2f dropout' % dropout)\n",
    "plt.title('Train accuracy')\n",
    "plt.xlabel('Epoch')\n",
    "plt.ylabel('Accuracy')\n",
    "plt.legend(ncol=2, loc='lower right')\n",
    "  \n",
    "plt.subplot(3, 1, 2)\n",
    "for dropout in dropout_choices:\n",
    "  plt.plot(solvers[dropout].val_acc_history, 'o', label='%.2f dropout' % dropout)\n",
    "plt.title('Val accuracy')\n",
    "plt.xlabel('Epoch')\n",
    "plt.ylabel('Accuracy')\n",
    "plt.legend(ncol=2, loc='lower right')\n",
    "\n",
    "plt.gcf().set_size_inches(15, 15)\n",
    "plt.show()"
   ]
  },
  {
   "cell_type": "markdown",
   "metadata": {
    "colab_type": "text",
    "id": "qXMssToI2jXU"
   },
   "source": [
    "## Inline Question 2:\n",
    "Compare the validation and training accuracies with and without dropout -- what do your results suggest about dropout as a regularizer?"
   ]
  },
  {
   "cell_type": "markdown",
   "metadata": {
    "colab_type": "text",
    "id": "ZdG4QVFr2jXV"
   },
   "source": [
    "## Answer:\n",
    " Dropout does a good jog to avoid overfitting. From the results above, dropouted version model has much higher generation accuracy, though they have similar training accuracy.\n",
    " \n",
    " \n",
    " "
   ]
  },
  {
   "cell_type": "markdown",
   "metadata": {
    "colab_type": "text",
    "id": "2OvWEUIZ2jXW"
   },
   "source": [
    "## Inline Question 3:\n",
    "Suppose we are training a deep fully-connected network for image classification, with dropout after hidden layers (parameterized by keep probability p). How should we modify p, if at all, if we decide to decrease the size of the hidden layers (that is, the number of nodes in each layer)?"
   ]
  },
  {
   "cell_type": "markdown",
   "metadata": {
    "colab_type": "text",
    "id": "-L_EB3W62jXX"
   },
   "source": [
    "## Answer:\n",
    "We should decrease p,in order to keep the mean of the output value the same, if we want to keep the mean of the test the same."
   ]
  },
  {
   "cell_type": "markdown",
   "metadata": {
    "colab_type": "text",
    "id": "-T_0EVsV16t5"
   },
   "source": [
    "# Train a good model!\n",
    "Train the best fully-connected model that you can on CIFAR-10, storing your best model in the `best_model` variable. We require you to get at least 50% accuracy on the validation set using a fully-connected net.  If you are careful it should be possible to get accuracies above 55%."
   ]
  },
  {
   "cell_type": "code",
   "execution_count": 54,
   "metadata": {
    "colab": {
     "base_uri": "https://localhost:8080/",
     "height": 527
    },
    "colab_type": "code",
    "id": "CC7MI6I116t5",
    "outputId": "df7a4116-b66d-46d9-91df-1b1578bb1201"
   },
   "outputs": [
    {
     "name": "stdout",
     "output_type": "stream",
     "text": [
      "update_rule adam\n",
      "(Iteration 1 / 7650) loss: 2.313298\n",
      "(Epoch 0 / 10) train acc: 0.182000; val_acc: 0.189000\n",
      "(Iteration 501 / 7650) loss: 1.590367\n",
      "(Epoch 1 / 10) train acc: 0.498000; val_acc: 0.476000\n",
      "(Iteration 1001 / 7650) loss: 1.291777\n",
      "(Iteration 1501 / 7650) loss: 1.562503\n",
      "(Epoch 2 / 10) train acc: 0.530000; val_acc: 0.497000\n",
      "(Iteration 2001 / 7650) loss: 1.295074\n",
      "(Epoch 3 / 10) train acc: 0.543000; val_acc: 0.493000\n",
      "(Iteration 2501 / 7650) loss: 1.047479\n",
      "(Iteration 3001 / 7650) loss: 1.475683\n",
      "(Epoch 4 / 10) train acc: 0.603000; val_acc: 0.522000\n",
      "(Iteration 3501 / 7650) loss: 1.030442\n",
      "(Epoch 5 / 10) train acc: 0.607000; val_acc: 0.519000\n",
      "(Iteration 4001 / 7650) loss: 1.261468\n",
      "(Iteration 4501 / 7650) loss: 1.262448\n",
      "(Epoch 6 / 10) train acc: 0.619000; val_acc: 0.543000\n",
      "(Iteration 5001 / 7650) loss: 1.054130\n",
      "(Epoch 7 / 10) train acc: 0.648000; val_acc: 0.553000\n",
      "(Iteration 5501 / 7650) loss: 1.031745\n",
      "(Iteration 6001 / 7650) loss: 1.156230\n",
      "(Epoch 8 / 10) train acc: 0.643000; val_acc: 0.537000\n",
      "(Iteration 6501 / 7650) loss: 0.902585\n",
      "(Epoch 9 / 10) train acc: 0.681000; val_acc: 0.530000\n",
      "(Iteration 7001 / 7650) loss: 0.890772\n",
      "(Iteration 7501 / 7650) loss: 0.836181\n",
      "(Epoch 10 / 10) train acc: 0.684000; val_acc: 0.544000\n"
     ]
    }
   ],
   "source": [
    "best_model = None\n",
    "################################################################################\n",
    "# TODO: Train the best FullyConnectedNet that you can on CIFAR-10. You might   #\n",
    "# find batch normalization and dropout useful. Store your best model in  #\n",
    "# the best_model variable.                                                     #\n",
    "################################################################################\n",
    "np.random.seed(231)\n",
    "# Try training a very deep net with batchnorm\n",
    "hidden_dims = [512,  32]\n",
    "\n",
    "num_train = 1000\n",
    "\n",
    "\n",
    "weight_scale = 2e-2\n",
    "bn_model = FullyConnectedNet(hidden_dims, weight_scale=weight_scale, batchnorm=True,dropout=1,reg=0)\n",
    "#model = FullyConnectedNet(hidden_dims, weight_scale=weight_scale, batchnorm=False)\n",
    "\n",
    "bn_solver = Solver(bn_model, data,\n",
    "                num_epochs=10, batch_size=64,\n",
    "                update_rule='adam',\n",
    "                optim_config={\n",
    "                  'learning_rate': 1e-2,\n",
    "                },\n",
    "                verbose=True,print_every=500)\n",
    "bn_solver.train()\n",
    "\n",
    "\n",
    "best_model=bn_model\n",
    "\n",
    "\n",
    "################################################################################\n",
    "#                              END OF YOUR CODE                                #\n",
    "################################################################################"
   ]
  },
  {
   "cell_type": "markdown",
   "metadata": {
    "colab_type": "text",
    "id": "NyZ8hCwk16t8"
   },
   "source": [
    "# Test your model!\n",
    "Run your best model on the validation and test sets. You should achieve above 50% accuracy on the validation set."
   ]
  },
  {
   "cell_type": "code",
   "execution_count": 58,
   "metadata": {
    "colab": {
     "base_uri": "https://localhost:8080/",
     "height": 53
    },
    "colab_type": "code",
    "id": "Nldb0CIj16t9",
    "outputId": "121c9a3b-023e-48d6-bee0-7ebfae6f1a7d"
   },
   "outputs": [
    {
     "name": "stdout",
     "output_type": "stream",
     "text": [
      "Validation set accuracy:  0.561\n",
      "Test set accuracy:  0.546\n"
     ]
    }
   ],
   "source": [
    "y_test_pred = np.argmax(best_model.loss(X_test), axis=1)\n",
    "y_val_pred = np.argmax(best_model.loss(X_val), axis=1)\n",
    "print('Validation set accuracy: ', (y_val_pred == y_val).mean())\n",
    "print('Test set accuracy: ', (y_test_pred == y_test).mean())"
   ]
  },
  {
   "cell_type": "markdown",
   "metadata": {
    "colab_type": "text",
    "id": "g_mFXaa1B0gV"
   },
   "source": [
    "*Many thanks to Stanford CS231n for permission to use their materials!*"
   ]
  }
 ],
 "metadata": {
  "colab": {
   "collapsed_sections": [],
   "name": "homework2_fully_connected_networks.ipynb",
   "provenance": [],
   "toc_visible": true
  },
  "kernelspec": {
   "display_name": "Python 3",
   "language": "python",
   "name": "python3"
  },
  "language_info": {
   "codemirror_mode": {
    "name": "ipython",
    "version": 3
   },
   "file_extension": ".py",
   "mimetype": "text/x-python",
   "name": "python",
   "nbconvert_exporter": "python",
   "pygments_lexer": "ipython3",
   "version": "3.6.9"
  }
 },
 "nbformat": 4,
 "nbformat_minor": 1
}
